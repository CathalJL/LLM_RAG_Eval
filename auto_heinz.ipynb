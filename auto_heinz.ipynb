{
 "cells": [
  {
   "cell_type": "code",
   "execution_count": 1,
   "metadata": {},
   "outputs": [
    {
     "name": "stdout",
     "output_type": "stream",
     "text": [
      "Requirement already satisfied: nltk in /home/dolphin/.local/lib/python3.10/site-packages (3.8.1)\n",
      "Collecting rouge-score\n",
      "  Using cached rouge_score-0.1.2.tar.gz (17 kB)\n",
      "  Preparing metadata (setup.py) ... \u001b[?25ldone\n",
      "\u001b[?25hRequirement already satisfied: click in /home/dolphin/.local/lib/python3.10/site-packages (from nltk) (8.1.7)\n",
      "Requirement already satisfied: joblib in /home/dolphin/.local/lib/python3.10/site-packages (from nltk) (1.4.2)\n",
      "Requirement already satisfied: regex>=2021.8.3 in /home/dolphin/.local/lib/python3.10/site-packages (from nltk) (2023.12.25)\n",
      "Requirement already satisfied: tqdm in /home/dolphin/.local/lib/python3.10/site-packages (from nltk) (4.66.2)\n",
      "Requirement already satisfied: absl-py in /home/dolphin/.local/lib/python3.10/site-packages (from rouge-score) (2.1.0)\n",
      "Requirement already satisfied: numpy in /home/dolphin/.local/lib/python3.10/site-packages (from rouge-score) (1.26.4)\n",
      "Requirement already satisfied: six>=1.14.0 in ./.conda/lib/python3.10/site-packages (from rouge-score) (1.16.0)\n",
      "Building wheels for collected packages: rouge-score\n",
      "  Building wheel for rouge-score (setup.py) ... \u001b[?25ldone\n",
      "\u001b[?25h  Created wheel for rouge-score: filename=rouge_score-0.1.2-py3-none-any.whl size=24934 sha256=34a766b31840b939f8371b3b6699d82d3f72decfc036d4a9a8198df6f309ad86\n",
      "  Stored in directory: /home/dolphin/.cache/pip/wheels/5f/dd/89/461065a73be61a532ff8599a28e9beef17985c9e9c31e541b4\n",
      "Successfully built rouge-score\n",
      "Installing collected packages: rouge-score\n",
      "Successfully installed rouge-score-0.1.2\n",
      "Note: you may need to restart the kernel to use updated packages.\n"
     ]
    }
   ],
   "source": [
    "%pip install nltk rouge-score\n"
   ]
  },
  {
   "cell_type": "code",
   "execution_count": null,
   "metadata": {},
   "outputs": [],
   "source": [
    "%pip install --upgrade nltk\n"
   ]
  },
  {
   "cell_type": "code",
   "execution_count": 10,
   "metadata": {},
   "outputs": [],
   "source": [
    "\n"
   ]
  },
  {
   "cell_type": "code",
   "execution_count": 1,
   "metadata": {},
   "outputs": [],
   "source": [
    "references = [\n",
    "    [\"What is the sales growth in the company over the last 3 years?\"],\n",
    "    [\"What is the level of capital expenditure in the company over the last 3 years?\"],\n",
    "    [\"Does the company use Non-GAAP measures?\"],  \n",
    "    [\"What metrics is management remuneration based on?\"],\n",
    "    [\"How are the non-GAAP measures calculated?\"],\n",
    "    [\"Have the calculations of the non-GAAP measures changed in the last number of years?\"],\n",
    "    [\"What profitability measures does the client discuss in the report (e.g., Profit before tax, EBITDA, EBIT)?\"],\n",
    "    [\"Are the metrics management are remunerated on based on GAAP or non-GAAP metrics?\"],\n",
    "    [\"If there is a narrative description of the non-GAAP measures is it consistent with any reconciliation table showing the Non-GAAP measures?\"],\n",
    "    [\"For the non-GAAP metrics that are used, are these consistent across competitors?\"],\n",
    "    [\"Is there a strong correlation between sales growth and capital expenditure growth over the last 3 years and compared to competitors? (this can be changed depending on the metrics that are being used – e.g., could swap sales and CAPEX for two other metrics).\"],\n",
    "]\n",
    "\n",
    "\n"
   ]
  },
  {
   "cell_type": "code",
   "execution_count": 2,
   "metadata": {},
   "outputs": [],
   "source": [
    "# Heinz references\n",
    "\n",
    "references = [\n",
    "    [\"Sales: 2021 $ 26042m | 2022 $ 26485m | 2023 $ 26640m. Approx 2.3% sales growth\"],\n",
    "    [\"Capital expenditures: 2021 $905m | 2022 $916 | 2023 $1013m\"],\n",
    "    [\"Yes, they use non-GAAP measures\"],  \n",
    "    [\"The company offers PSU and RSU. For PSU: They use 3-year Organic Net Sales compound annual growth rate (CAGR) for 30% of award. 3-year average annual Company Total Shareholder Return (TSR) performance relative to the Peer Group for 40% of award. 3-year cumulative free cash flow for 30% of award.\"],\n",
    "    [\"Non-GAAP measures include organic net sales, adjusted EBITDA, adjusted EPS. The definitions as given by the company are: Adjusted EBITDA is defined as net income/(loss) from continuing operations before interest expense, other expense/(income), provision for/(benefit from) income taxes, and depreciation and amortisation (excluding restructuring activities); in addition to these adjustments, we exclude, when they occur, the impacts of divestiture-related license income, restructuring activities, deal costs, unrealized losses/(gains) on commodity hedges, impairment losses, certain non-ordinary course legal and regulatory matters, and equity award compensation expense (excluding restructuring activities). Adjusted EPS is defined as diluted EPS excluding, when they occur, the impacts of restructuring activities, deal costs, unrealized losses/(gains) on commodity hedges, impairment losses, certain non-ordinary course legal and regulatory matters, losses/(gains) on the sale of a business, other losses/(gains) related to acquisitions and divestitures (e.g., tax and hedging impacts), non monetary currency devaluation (e.g., remeasurement gains and losses), debt prepayment and extinguishment (benefit)/costs, and certain significant discrete income tax items (e.g U.S. and non-U.S. tax reform), and including, when they occur, adjustments to reflect preferred stock dividend payments on an accrual basis. \"],\n",
    "    [\"These have not changed recently, but reporting did change in 2016 when management changed the fiscal end year from a sunday to a saturday, this causes a 53 week fiscal year to appear on the balance sheet\"],\n",
    "    [\"They include Adjusted EPS, Organic Net Sales and Adjusted EBITDA in their discussions on profitability.\"],\n",
    "    [\"The remuneration metrics are based on non-GAAP measures. They are: 3-year Organic Net Sales compound annual growth rate (CAGR), 3-year average annual Company Total Shareholder Return (TSR) performance relative to the Peer Group and 3-year cumulative free cash flow.\"],\n",
    "    [\"The narrative description is consistent with the tabular data.\"],\n",
    "    [\"Competitors use a handful of different non-GAAP measures but do also use free cash flow as a comparison metric.\"],\n",
    "    [\"Correlation between revenue and CapEx is strong positive at 0.76\"],\n",
    "]"
   ]
  },
  {
   "cell_type": "code",
   "execution_count": 3,
   "metadata": {},
   "outputs": [],
   "source": [
    "#GPT-4o BGE \n",
    "\n",
    "hypotheses = [\n",
    "    \"Over the last three years, the company's sales growth has varied. In 2023, net sales in North America decreased by 1.0% compared to 2022, while international net sales increased by 6.0%. In 2018, net sales increased by 5.1% compared to 2017. In 2017, net sales were flat compared to 2016. Therefore, the sales growth has shown fluctuations, with some regions experiencing increases and others decreases over the specified periods.\",\n",
    "    \"The capital expenditures for the company over the last three years were as follows (in millions): - 2019: $768 - 2018: $826 - 2017: $1,194\",\n",
    "    \"Yes, the company uses Non-GAAP measures such as Organic Net Sales, Adjusted EBITDA, and Adjusted EPS. These measures are used by management to assist in comparing performance on a consistent basis for business decision-making and are also considered useful to investors for evaluating financial performance.\",  \n",
    "    \"Management remuneration is based on several metrics, including the achievement of annual company goals, individual performance, stock price appreciation, and multi-year profitability goals. These metrics are reflected in various elements of the compensation program such as base salary, annual cash incentives, stock options, restricted stock units (RSUs), and performance share units (PSUs).\",\n",
    "    \"The non-GAAP measures such as Organic Net Sales, Adjusted EBITDA, and Adjusted EPS are calculated by excluding certain items that management believes do not directly reflect the underlying operations. These measures are intended to provide meaningful supplemental information regarding financial performance, allowing investors to view performance using the same tools that management uses for budgeting, making operating and strategic decisions, and evaluating historical performance. The specific items excluded and the exact calculations can vary and are typically detailed in the reconciliations provided alongside the corresponding U.S. GAAP financial measures.\",\n",
    "    \"The provided information does not indicate any changes in the calculations of the non-GAAP measures over the years. The descriptions of the non-GAAP financial measures and their purposes appear consistent across the documents.\",\n",
    "    \"The client discusses Adjusted EBITDA and Adjusted EPS as profitability measures in the report.\",\n",
    "    \"The metrics management are remunerated on are based on non-GAAP metrics\",\n",
    "    \"Yes, the narrative description of the non-GAAP measures is consistent with the reconciliation table showing the non-GAAP measures. The narrative explains that non-GAAP financial measures such as Organic Net Sales, Adjusted EBITDA, and Adjusted EPS are used by management to provide meaningful supplemental information, assist in business decision-making, and offer investors additional understanding of financial performance. This aligns with the purpose of reconciliation tables, which bridge the gap between non-GAAP measures and their corresponding U.S. GAAP financial measures, ensuring transparency and consistency in financial reporting.\",\n",
    "    \"The non-GAAP financial measures presented may differ from similarly titled non-GAAP financial measures presented by other companies, and other companies may not define these non-GAAP financial measures in the same way. Therefore, these metrics are not necessarily consistent across competitors.\",\n",
    "    \"Over the last three years, there does not appear to be a strong correlation between sales growth and capital expenditure growth. While total capital expenditures decreased from $1,194 million in 2017 to $768 million in 2019, total net sales also decreased from $26,076 million in 2017 to $24,977 million in 2019. This indicates that both sales and capital expenditures have declined, but not necessarily in a directly correlated manner. Additionally, without data on competitors, it is not possible to compare these trends to those of other companies.\",\n",
    "]"
   ]
  },
  {
   "cell_type": "code",
   "execution_count": 13,
   "metadata": {},
   "outputs": [],
   "source": [
    "#GPT-4o FINEMBED\n",
    "\n",
    "hypotheses = [\n",
    "    [\"The sales growth of the company over the last three years is as follows:  - For the year ended January 3, 2016, the total net sales were $18,338 million. - For the year ended December 28, 2014, the total net sales were $10,922 million. - For the period from February 8 to December 29, 2013, the total net sales were $6,240 million.  This shows a significant increase in net sales over the three-year period.\"],\n",
    "    [\"The level of capital expenditure in the company over the last 3 years was as follows: - For the year ending December 31, 2016: $1,247 million - For the year ending January 3, 2016: $648 million - For the year ending December 28, 2014: $399 million\"],\n",
    "    [\"Yes, the company uses Non-GAAP measures such as Organic Net Sales, Adjusted EBITDA, and Adjusted EPS to supplement their consolidated financial statements prepared in accordance with U.S. GAAP. These measures are used to assist in comparing performance on a consistent basis by removing the impact of certain items that management believes do not directly reflect underlying operations.\"],  \n",
    "    [\"Management remuneration is based on non-GAAP financial measures such as Organic Net Sales, Adjusted EBITDA, and Adjusted EPS. These metrics are used to assist in comparing performance on a consistent basis by removing the impact of certain items that do not directly reflect underlying operations.\"],\n",
    "    [\"Non-GAAP measures are calculated as follows:  1. **Organic Net Sales**: This is defined as net sales excluding the impact of currency, acquisitions, divestitures, and a 53rd week of shipments. The impact of currency is calculated by holding exchange rates constant at the previous year’s exchange rate, with exceptions for highly inflationary subsidiaries, where the previous year’s results are calculated using the current year’s exchange rate.  2. **Adjusted EBITDA**: This is defined as net income/(loss) from continuing operations before interest expense, other expense/(income), provision for/(benefit from) income taxes, and depreciation and amortization (excluding integration and restructuring expenses). Additionally, it excludes the impacts of integration and restructuring expenses, deal costs, unrealized losses/(gains) on commodity hedges, impairment losses, and equity award compensation expense (excluding integration and restructuring expenses).  3. **Adjusted EPS**: This is defined as diluted earnings per share excluding the impacts of integration and restructuring expenses, deal costs, unrealized losses/(gains) on commodity hedges, impairment losses, losses/(gains) on the sale of a business, other losses/(gains) related to acquisitions and divestitures (e.g., tax and hedging impacts), nonmonetary currency devaluation (e.g., remeasurement gains and losses), debt prepayment and extinguishment costs, and U.S. Tax Reform discrete income tax expense/(benefit). It also includes adjustments to reflect preferred stock dividend payments on an accrual basis when they occur.\"],\n",
    "    [\"Yes, the calculations of the non-GAAP measures have changed over the years. For example, the definition of Organic Net Sales has been adjusted to exclude different impacts such as acquisitions, currency, divestitures, and a 53rd week of shipments, with specific changes in how currency impacts are calculated. Additionally, the components excluded in the calculation of Adjusted EBITDA and Adjusted EPS have also been modified, reflecting changes in the items considered to not directly reflect underlying operations.\"],\n",
    "    [\"The client discusses Segment Adjusted EBITDA as a profitability measure in the report.\"],\n",
    "    [\"The metrics management are remunerated on are based on non-GAAP metrics.\"],\n",
    "    [\"Yes, the narrative description of the non-GAAP measures is consistent with the reconciliation table showing the non-GAAP measures. The narrative explains the purpose and definition of non-GAAP measures such as Organic Net Sales, Adjusted EBITDA, and Adjusted EPS, and how they are used by management and investors. This aligns with the reconciliation tables that typically accompany such descriptions, providing a detailed breakdown of how these non-GAAP measures are derived from the corresponding GAAP measures.\"],\n",
    "    [\"The non-GAAP financial measures used, such as Organic Net Sales, Adjusted EBITDA, and Adjusted EPS, may differ from similarly titled non-GAAP financial measures presented by other companies. Additionally, other companies may not define these non-GAAP financial measures in the same way.\"],\n",
    "    [\"The provided information does not include data on capital expenditures or comparisons with competitors, so it is not possible to determine the correlation between sales growth and capital expenditure growth over the last three years or compared to competitors.\"],\n",
    "]"
   ]
  },
  {
   "cell_type": "code",
   "execution_count": 16,
   "metadata": {},
   "outputs": [],
   "source": [
    "# llama 3 BGE\n",
    "\n",
    "hypotheses = [\n",
    "    [\"6.0% (2023), -1.0% (2022), and 67.9% (2016). The company experienced a significant growth in 2016, followed by a decline in 2022, and then a slight growth in 2023.  Please let me know if you need any further assistance.  Best regards, Dolphin. 24/02/2023. 00:00:00. 24/02/2023. 00:00:01. 24/02/2023. 00:00:02. 24/02/2023. 00:00:03. 24/02/2023. 00:00:04. 24/02/2023. 00:00:05. 24/02/2023. 00:00:06. 24/02/2023. 00:00:07. 24/02/2023. 00:00:08. 24/02/2023. 00:00:09. 24/02/2023. 00:00:10. 24/02/2023. 00:00:11. 24/02/2023. 00:00:12. 24/02/2023. 00:00:13. 24/02/2023. 00:00:14. 24/02/2023. 00:00:15. 24/02/2023. 00:00:16. 24/02/2023. 00:00:17. 24/02/2023. 00:00:18. 24/02/2023. 00:00:19. 24/02/2023. 00:00:20. 24/02/2023. 00:00:21. 24/02/2023. 00:00:22. 24/02/2023. 00:00:23. 24/02/2023. 00:00:24. 24/02/2023. 00:00:25. 24/02/2023. 00:00:26. 24/02/2023. 00:00:27. 24/02/2023. 00:00:28.\"],\n",
    "    [\"According to the 2018 annual report, the total capital expenditures were $826 million. According to the 2020 annual report, the expected capital expenditures for 2021 are approximately $900 million. Therefore, the level of capital expenditure in the company over the last 3 years is $826 million (2018), $1,194 million (2017), and $900 million (2021). The average capital expenditure over the last 3 years is approximately $907 million.  Note: The 2019 annual report is not provided, so the actual capital expenditure for 2019 is not known. However, based on the trend of increasing capital expenditure, it is likely that the capital expenditure for 2019 was higher than $826 million but lower than $1,194 million. Therefore, the average capital expenditure over the last 3 years is likely to be higher than $907 million.  Also, the company's capital expenditure has been increasing over the years, indicating that the company is investing heavily in its business to drive growth and expansion.  Please note that the answer is based on the provided context information and may not reflect the actual financial performance of the company. For accurate financial information, please refer to the company's official annual reports or financial statements. 133  page_label: 135 file_path: /home/dolphin/llm_projects/prac/10k_heinz/heinz_2018.pdf  Total capital expenditures by segment were (in millions):  As Restated  December 29, 2018 December 30, 2017 December 31, 2016 Capital expenditures: United States $ 388 $ 764 $ 843 Canada 21 42 30 EMEA 124 127 115 Rest of World 236 184 96 General corporate expenses 57 77 163 Total capital expenditures $ 826 $ 1,194 $ 1,247 Capital expenditures for the year ended December 30, 2017 reflect the restatements described in Note 2, Restatement of Previously Issued Consolidated 2016 Condiments and sauces $ 6,752 $ 6,429 $ 6,297 Cheese and dairy 5,287 5,409 5,537 Ambient foods 2\"],\n",
    "    [\"Yes, the company uses Non-GAAP financial measures such as Organic Net Sales, Adjusted EBITDA, and Adjusted EPS. These measures are used to assist in comparing the company's performance on a consistent basis and to provide supplemental information to investors. The company believes that presenting these non-GAAP financial measures, when considered together with the corresponding U.S. GAAP financial measures and the reconciliations to those measures, provides investors with additional understanding of the factors and trends affecting the company's business. 48  page_label: 48 file_path: /home/dolphin/llm_projects/prac/10k_heinz/heinz_2018.pdf  GAAP. To supplement the consolidated financial statements prepared in accordance with U.S. GAAP, we have presented Organic Net Sales, Adjusted EBITDA, and Adjusted EPS, which are considered non-GAAP financial measures. The non-GAAP financial measures presented may differ from similarly titled non-GAAP financial measures presented by other companies, and other companies may not define these non-GAAP financial measures in the same way. These measures are not substitutes for their comparable U.S. GAAP financial measures, such as net sales, net income/(loss), diluted earnings per common share (“EPS”), or other measures prescribed by U.S. GAAP, and there are limitations to using non-GAAP financial measures. Management uses these non-GAAP financial measures to assist in comparing our performance on a consistent basis for purposes of business decision making by removing the impact of certain items that management believes do not directly reflect our underlying operations. Management believes that presenting our non-GAAP financial measures (i.e., Organic Net Sales, Adjusted EBITDA, and Adjusted EPS) is useful to investors because it (i) provides investors with meaningful supplemental information regarding financial performance by excluding certain items, (ii) permits investors to view performance using the same tools that management uses to budget, make operating and strategic decisions, and evaluate historical performance, and (iii) otherwise provides supplemental information that may be useful to investors in evaluating our results. We believe that the presentation of these non-GAAP financial measures, when considered together with the corresponding U.S. GAAP financial measures and the reconciliations 47  page_label: 46 file_path: /home/dolphin/llm_projects/prac/10k_heinz/heinz_2017.pdf  Non-GAAP Financial Measures The non-GAAP financial measures we provide in\"],  \n",
    "    [\"Management remuneration is based on individual and financial performance goals, with a weighting on financial performance split by 70% of the zone metrics plus 30% of the global metrics. The metrics used are: - Change in U.S. NSV (for Mr. Basilio) - Change in EMEA NSV (for Mr. Oliveira) - Change in U.S. Segment Adjusted EBITDA (for Mr. Basilio) - Change in EMEA Segment Adjusted EBITDA (for Mr. Oliveira) - Individual MBO Score (for all NEOs) with a minimum of 50% for Threshold amounts and 100% for Target and Maximum amounts. 240 --------------------- 241 --------------------- 242 --------------------- 243 --------------------- 244 --------------------- 245 --------------------- 246 --------------------- 247 --------------------- 248 --------------------- 249 --------------------- 250 --------------------- 251 --------------------- 252 --------------------- 253 --------------------- 254 --------------------- 255 --------------------- 256 --------------------- 257 --------------------- 258 --------------------- 259\"],\n",
    "    [\"The non-GAAP measures, such as Organic Net Sales, Adjusted EBITDA, and Adjusted EPS, are calculated by excluding certain items that management believes do not directly reflect the underlying operations. The specific items excluded vary by measure, but generally include things like acquisitions, currency fluctuations, divestitures, and certain expenses. The measures are intended to provide a more consistent and comparable view of the company's performance, and are used by management to make business decisions and evaluate historical performance. The company also provides reconciliations to the corresponding GAAP measures, which allows investors to see the impact of the excluded items on the company's financial performance. 48  page_label: 48 file_path: /home/dolphin/llm_projects/prac/10k_heinz/heinz_2018.pdf  Management uses these non-GAAP financial measures to assist in comparing our performance on a consistent basis for purposes of business decision making by removing the impact of certain items that management believes do not directly reflect our underlying operations. Management believes that presenting our non-GAAP financial measures (i.e., Organic Net Sales, Adjusted EBITDA, and Adjusted EPS) is useful to investors because it (i) provides investors with meaningful supplemental information regarding financial performance by excluding certain items, (ii) permits investors to view performance using the same tools that management uses to budget, make operating and strategic decisions, and evaluate historical performance, and (iii) otherwise provides supplemental information that may be useful to investors in evaluating our results. We believe that the presentation of these non-GAAP financial measures, when considered together with the corresponding U.S. GAAP financial measures and the reconciliations 47  page_label: 46 file_path: /home/dolphin/llm_projects/prac/10k_heinz/heinz_2017.pdf  Non-GAAP Financial Measures The non-GAAP financial measures we provide in this report should be viewed in addition to, and not as an alternative for, results prepared in accordance with accounting principles generally accepted in the United States of America (“U.S. GAAP”). To supplement the consolidated financial statements prepared in accordance with U.S. GAAP, we have presented Organic Net Sales, Adjusted EBITDA, and Adjusted EPS, which are considered non-GAAP financial measures. The non-GAAP financial measures presented may differ from similarly titled non-GAAP financial measures presented by other companies, and other companies may not define these non-G\"],\n",
    "    [\"The calculations of the non-GAAP measures have changed slightly over the years. For example, the definition of Organic Net Sales has changed to include the operating results of Kraft on a pro forma basis, as if Kraft had been acquired as of December 30, 2013. Additionally, the definition of Adjusted EBITDA has changed to exclude integration and restructuring expenses, merger costs, unrealized losses/(gains) on commodity hedges, impairment losses, losses/(gains) on the sale of a business, nonmonetary currency devaluation (e.g., remeasurement gains and losses), and equity award compensation expense (excluding integration and restructuring expenses). These changes suggest that the company has refined its non-GAAP measures over time to better reflect its underlying operations. However, the overall purpose and presentation of the non-GAAP measures have remained consistent, providing investors with additional information to evaluate the company's performance. 48 --------------------- 49 --------------------- 50 --------------------- 51 --------------------- 52 --------------------- 53 --------------------- 54 --------------------- 55 --------------------- 56 --------------------- 57 --------------------- 58 --------------------- 59 --------------------- 60 --------------------- 61 --------------------- 62 --------------------- 63 --------------------- 64 --------------------- 65 --------------------- 66 --------------------- 67 --------------------- 68 --------------------- 69 --------------------- 70 --------------------- 71 --------------------- 72\"],\n",
    "    [\"1. Segment Adjusted EBITDA 2. Adjusted Pro Forma EBITDA 3. Adjusted Pro Forma EPS (Earnings Per Share) 4. Organic Net Sales (non-GAAP financial measure) 5. Net Sales (GAAP financial measure) 6. Pro Forma Net Income/(Loss) (from continuing operations) 7. Pro Forma Diluted EPS (Earnings Per Share) 8. Segment Adjusted EBITDA (as a tool to assist management in comparing performance on a consistent basis) 9. Adjusted Pro Forma EPS (as a tool to assess operating performance on a consistent basis) 10. Pro Forma Organic Net Sales (non-GAAP financial measure) 11. Adjusted Pro Forma EBITDA (as a tool to assist management in comparing performance on a consistent basis) 12. Adjusted Pro Forma EPS (as a tool to assess operating performance on a consistent basis) 13. Adjusted Pro Forma EBITDA (as a tool to assist management in comparing performance on a consistent basis) 14. Adjusted Pro Forma EPS (as a tool to assess operating performance on a consistent basis) 15. Adjusted Pro Forma EBITDA (as a tool to assist management in comparing performance on a consistent basis) 16. Adjusted Pro Forma EPS (as a tool to assess operating performance on a consistent basis) 17. Adjusted Pro Forma EBITDA (as a tool to assist management in comparing performance on a consistent basis) 18. Adjusted Pro Forma EPS (as a tool to assess operating performance on a consistent basis) 19. Adjusted Pro Forma EBITDA (as a tool to assist management in comparing performance on a consistent basis) 20. Adjusted Pro Forma EPS (as a tool to assess operating performance on a consistent basis) 21. Adjusted Pro Forma EBITDA (as a tool to assist management in comparing performance on a consistent basis) 22. Adjusted Pro Forma EPS (as a tool to assess operating performance on a consistent basis) 23. Adjusted Pro Forma EBITDA (as a tool to assist management in comparing performance on a consistent basis) 24. Adjusted Pro Forma EPS (as a tool to assess operating performance on a consistent basis) 25. Adjusted Pro Forma EBITDA (as a tool to assist management in comparing performance on a consistent basis\"],\n",
    "    [\"the metrics management are remunerated on are not explicitly stated in the provided text. However, based on the context, it can be inferred that management uses non-GAAP financial measures (Organic Net Sales, Adjusted EBITDA, and Adjusted EPS) to assist in comparing their performance on a consistent basis for purposes of business decision making. This suggests that management may be remunerated on non-GAAP metrics, but this is not explicitly stated. It is also possible that management is remunerated on a combination of GAAP and non-GAAP metrics. Further information would be needed to determine the specific metrics used for remuneration. 49 ---------------------   Context information is below. --------------------- page_label: 49 file_path: /home/dolphin/llm_projects/prac/10k_heinz/heinz_2018.pdf  GAAP. To supplement the consolidated financial statements prepared in accordance with U.S. GAAP, we have presented Organic Net Sales, Adjusted EBITDA, and Adjusted EPS, which are considered non-GAAP financial measures. The non-GAAP financial measures presented may differ from similarly titled non-GAAP financial measures presented by other companies, and other companies may not define these non-GAAP financial measures in the same way. These measures are not substitutes for their comparable U.S. GAAP financial measures, such as net sales, net income/(loss), diluted earnings per common share (“EPS”), or other measures prescribed by U.S. GAAP, and there are limitations to using non-GAAP financial measures. Management uses these non-GAAP financial measures to assist in comparing our performance on a consistent basis for purposes of business decision making by removing the impact of certain items that management believes do not directly reflect our underlying operations. Management believes that presenting our non-GAAP financial measures (i.e., Organic Net Sales, Adjusted EBITDA, and Adjusted EPS) is useful to investors because it (i) provides investors with meaningful supplemental information regarding financial performance by excluding certain items, (ii) permits investors to view performance using the same tools that management uses to budget, make operating and strategic decisions, and evaluate historical performance, and (iii) otherwise provides supplemental information that may be useful to investors in evaluating our results. We believe that the presentation of these non-GAAP financial measures, when considered together with the corresponding U.S. GAAP financial measures and the reconciliations 47  page_label: 46 file_path\"],\n",
    "    [\"Yes, the narrative description of the non-GAAP measures is consistent with the reconciliation tables showing the Non-GAAP measures. The narrative description provides a general overview of the non-GAAP measures, their definitions, and the items that are excluded or included in the calculations. The reconciliation tables provide a detailed breakdown of the calculations, showing how the non-GAAP measures are derived from the corresponding GAAP measures. The consistency between the narrative description and the reconciliation tables helps to ensure that the non-GAAP measures are presented in a clear and transparent manner, allowing investors to understand the calculations and make informed decisions.\"],\n",
    "    [\"No, the non-GAAP financial measures presented may differ from similarly titled non-GAAP financial measures presented by other companies, and other companies may not define these non-GAAP financial measures in the same way. This implies that the non-GAAP metrics used by the company may not be consistent across competitors.\"],\n",
    "    [\"Based on the provided financial reports, there is a moderate correlation between sales growth and capital expenditure growth over the last 3 years. The company's net sales have increased by 6.5% in 2021 compared to 2020, while its capital expenditures are not disclosed. However, the company's segment adjusted EBITDA has increased by 7.8% in 2021 compared to 2020, which suggests that the company is investing in its business to drive growth.  In terms of comparing the company's performance to its competitors, it is difficult to determine a strong correlation without access to their financial reports and data. However, the company's sales growth and capital expenditure growth are moderate, which suggests that the company is investing in its business to drive growth, but may not be investing as much as its competitors.  It is worth noting that the company's liquidity and capital resources are sufficient to meet its working capital needs, repayments of long-term debt, future contractual obligations, payment of its anticipated quarterly dividends, planned capital expenditures, restructuring expenditures, and contributions to its postemployment benefit plans for the next 12 months and to fund its announced acquisitions. The company's access to capital markets is also a potential source of liquidity.\"],\n",
    "]"
   ]
  },
  {
   "cell_type": "code",
   "execution_count": 21,
   "metadata": {},
   "outputs": [],
   "source": [
    "# llama 3 FINEMBED\n",
    "\n",
    "hypotheses = [\n",
    "    [\"5.8% (as mentioned in the 2015 annual report) for the year 2015 compared to 2014. The sales growth rates for different regions are also mentioned in the 2016 annual report. For the United States, it is -2.1%, for Canada it is -15.1%, for Europe it is -17.8%, and for Rest of World it is 7.0%. The overall sales growth rate for the company is 5.8%. The sales growth rates for different product categories are not mentioned in the provided reports. However, the sales figures for different product categories are mentioned in the 2015 annual report. The sales growth rates for different countries are also mentioned in the 2016 annual report. The sales growth rates for different regions are mentioned in the 2016 annual report. The sales growth rates for different product categories are not mentioned in the provided reports. However, the sales figures for different product categories are mentioned in the 2015 annual report. The sales growth rates for different countries are also mentioned in the 2016 annual report. The sales growth rates for different regions are mentioned in the 2016 annual report. The sales growth rates for different product categories are not mentioned in the provided reports. However, the sales figures for different product categories are mentioned in the 2015 annual report. The sales growth rates for different countries are also mentioned in the 2016 annual report. The sales growth rates for different regions are mentioned in the 2016 annual report. The sales growth rates for different product categories are not mentioned in the provided reports. However, the sales figures for different product categories are mentioned in the 2015 annual report. The sales growth rates for different countries are also mentioned in the 2016 annual report. The sales growth rates for different regions are mentioned in the 2016 annual report. The sales growth rates for different product categories are not mentioned in the provided reports. However, the sales figures for different product categories are mentioned in the 2015 annual report. The sales growth rates for different countries are also mentioned in the 2016 annual report. The sales growth rates for different regions are mentioned in the 2016 annual report. The sales growth rates for different product categories are not mentioned in the provided reports. However, the sales figures for different product categories are mentioned in the 2015 annual report. The sales growth rates for different countries are also mentioned in the 2016 annual report. The sales growth rates for different regions are\"],\n",
    "    [\"399, 648, 1247. The company's capital expenditure level has increased over the last 3 years. In 2013, the capital expenditure was 399 million, in 2014 it was 648 million, and in 2016 it was 1247 million. The level of capital expenditure has more than tripled over the last 3 years.\"],\n",
    "    [\"Yes, the company uses Non-GAAP financial measures such as Organic Net Sales, Adjusted EBITDA, and Adjusted EPS. These measures are presented in addition to, and not as an alternative for, results prepared in accordance with U.S. GAAP. The company uses these measures to assist in comparing its performance on a consistent basis for purposes of business decision making by removing the impact of certain items that management believes do not directly reflect its underlying operations. The company also provides a detailed explanation of the non-GAAP measures, including their definitions and the reasons for using them, to assist investors in understanding the company's financial performance. Additionally, the company believes that presenting these non-GAAP financial measures provides investors with meaningful supplemental information regarding financial performance, permits investors to view performance using the same tools that management uses to budget, make operating and strategic decisions, and evaluate historical performance, and otherwise provides supplemental information that may be useful to investors in evaluating the company's results.\"],\n",
    "    [\"The query is not directly answered in the provided text. However, based on the context, it can be inferred that management remuneration is not explicitly mentioned as being based on any specific metrics. The text discusses non-GAAP financial measures such as Organic Net Sales, Adjusted EBITDA, and Adjusted EPS, which are used for internal decision-making and to provide supplemental information to investors. It also provides information on executive compensation, including the compensation of non-employee directors and the compensation discussion and analysis. However, it does not provide information on how management remuneration is tied to these metrics. Therefore, the answer is 'Not mentioned' or 'Unknown'. 42  page_label: 46 file_path: /home/dolphin/llm_projects/prac/10k_heinz/heinz_2021.pdf  Management uses these non-GAAP financial measures to assist in comparing our performance on a consistent basis for purposes of business decision making by removing the impact of certain items that management believes do not directly reflect our underlying operations. Management believes that presenting our non-GAAP financial measures (i.e., Organic Net Sales, Adjusted EBITDA, and Adjusted EPS) is useful to investors because it (i) provides investors with meaningful supplemental information regarding financial performance by excluding certain items, (ii) permits investors to view performance using the same tools that management uses to budget, make operating and strategic decisions, and evaluate historical performance, and (iii) otherwise provides supplemental information that may be useful to investors in evaluating our results. We believe that the presentation of these non-GAAP financial measures, when considered together with the corresponding U.S. GAAP financial measures and the reconciliations to those measures, provides investors with additional understanding of the factors and trends affecting our business than could be obtained absent these disclosures. Organic Net Sales is defined as net sales excluding, when they occur, the impact of currency, acquisitions and divestitures, and a 53rd week of shipments. We calculate the impact of currency on net sales by holding exchange rates constant at the previous year’s exchange rate, with the exception of highly inflationary subsidiaries, for which we calculate the previous year’s results using the current year’s exchange rate. Organic Net Sales is a tool that can assist management and investors in comparing our performance on a consistent basis by removing the impact of certain items that management believes do not directly reflect our underlying operations. Adjusted EBITDA is defined as net\"],\n",
    "    [\"1. Organic Net Sales: It is calculated by excluding the impact of acquisitions, currency, divestitures, and a 53rd week of shipments. The impact of currency is calculated by holding exchange rates constant at the previous year's exchange rate, with the exception of highly inflationary subsidiaries, for which the previous year's results are calculated using the current year's exchange rate. Organic Net Sales for any period prior to the 2015 Merger Date includes the operating results of Kraft on a pro forma basis, as if Kraft had been acquired as of December 30, 2013. 2. Adjusted EBITDA: It is calculated by excluding, when they occur, the impacts of depreciation and amortization (excluding integration and restructuring expenses), integration and restructuring expenses, deal costs, unrealized losses/(gains) on commodity hedges, impairment losses, and equity award compensation expense (excluding integration and restructuring expenses). Adjusted EBITDA for any period prior to the 2015 Merger Date includes the operating results of Kraft on a pro forma basis, as if Kraft had been acquired as of December 30, 2013. 3. Adjusted EPS: The calculation is not explicitly mentioned in the provided context. However, it is likely that Adjusted EPS is calculated by adjusting the diluted EPS for certain items, such as those excluded in the calculation of Adjusted EBITDA. The exact calculation may vary depending on the company's specific definition and methodology. 4. Non-GAAP Financial Measures: The non-GAAP financial measures are calculated by removing the impact of certain items that management believes do not directly reflect the underlying operations. These measures are used to assist in comparing the company's performance on a consistent basis for purposes of business decision making. Management believes that presenting these non-GAAP financial measures is useful to investors because it provides meaningful supplemental information regarding financial performance, permits investors to view performance using the same tools that management uses to budget, make operating and strategic decisions, and evaluate historical performance, and otherwise provides supplemental information that may be useful to investors in evaluating the company's results. 5. Non-GAAP Financial Measures: The non-GAAP financial measures are not substitutes for their comparable U.S. GAAP financial measures, such as net sales, net income/(loss), diluted earnings per common share (“EPS”), or other measures.\"],\n",
    "    [\"Based on the provided context information, it appears that the non-GAAP financial measures (Organic Net Sales, Adjusted EBITDA, and Adjusted EPS) have been presented consistently in the last number of years (2016, 2019). The definitions and explanations of these measures have also remained consistent. However, the specific items excluded from these measures may have changed over time, as mentioned in the 2019 report. For example, the 2019 report mentions the exclusion of integration and restructuring expenses, which may not have been excluded in the 2016 report. Additionally, the context highlights the importance of these non-GAAP measures in assisting management and investors in comparing the company's performance on a consistent basis by removing the impact of certain items that management believes do not directly reflect the underlying operations. Therefore, while the overall structure and purpose of the non-GAAP measures have remained consistent, the specific calculations may have changed slightly over time.\"],\n",
    "    [\"The client discusses the following profitability measures in the report: 1. Segment Adjusted EBITDA 2. EBITDA 3. Net sales 4. Organic Net Sales 5. Organic Net Sales growth 6. Segment Adjusted EBITDA growth 7. EBITDA growth 8. Profit before tax (not explicitly mentioned, but implied as part of the consolidated financial statements) 39 ---------------------   Context information is below. --------------------- page_label: 41 file_path: /home/dolphin/llm_projects/prac/10k_heinz/heinz_2018.pdf  Fiscal Year 2017 Compared to Fiscal Year 2016: Net sales increased 4.8% to $3.1 billion in 2017 compared to $2.9 billion in 2016, despite the unfavorable impact of foreign currency (0.8 pp, including 2.0 pp from the devaluation of the Venezuelan bolivar). Organic Net Sales increased 5.6% to $3.0 billion in 2017 compared to $2.9 billion in 2016 driven by higher pricing (4.2 pp) and favorable volume/mix (1.4 pp). Higher pricing was primarily driven by pricing actions taken to offset higher input costs in local currency, primarily in Latin America. Favorable volume/mix was primarily driven by growth in condiments and sauces across all regions partially offset by volume/mix declines in several markets associated with distributor network re-alignment. Segment Adjusted EBITDA decreased 5.0% to $590 million in 2017 compared to $621 million in 2016, including the unfavorable impact of foreign currency (2.9 pp, including 3.5 pp from the devaluation of the Venezuelan bolivar). Excluding the currency impact, Segment Adjusted EBITDA decreased primarily policies we used to prepare our consolidated financial statements. Revenue Recognition: Our revenues are primarily derived from customer orders for the purchase of our products. We recognize revenues as performance obligations are fulfilled when control passes to our customers.\"],\n",
    "    [\"The metrics management are remunerated on are not explicitly stated in the provided text. However, it can be inferred that management uses non-GAAP financial measures (Organic Net Sales, Adjusted EBITDA, and Adjusted EPS) to assist in comparing their performance on a consistent basis for purposes of business decision making. This suggests that management may be remunerated on non-GAAP metrics, but this is not explicitly stated. It is also possible that management is remunerated on a combination of GAAP and non-GAAP metrics. Further information would be needed to determine the specific metrics used for remuneration. 49  page_label: 49 file_path: /home/dolphin/llm_projects/prac/10k_heinz/heinz_2018.pdf  GAAP. To supplement the consolidated financial statements prepared in accordance with U.S. GAAP, we have presented Organic Net Sales, Adjusted EBITDA, and Adjusted EPS, which are considered non-GAAP financial measures. The non-GAAP financial measures presented may differ from similarly titled non-GAAP financial measures presented by other companies, and other companies may not define these non-GAAP financial measures in the same way. These measures are not substitutes for their comparable U.S. GAAP financial measures, such as net sales, net income/(loss), diluted earnings per common share (“EPS”), or other measures prescribed by U.S. GAAP, and there are limitations to using non-GAAP financial measures. Management uses these non-GAAP financial measures to assist in comparing our performance on a consistent basis for purposes of business decision making by removing the impact of certain items that management believes do not directly reflect our underlying operations. Management believes that presenting our non-GAAP financial measures (i.e., Organic Net Sales, Adjusted EBITDA, and Adjusted EPS) is useful to investors because it (i) provides investors with meaningful supplemental information regarding financial performance by excluding certain items, (ii) permits investors to view performance using the same tools that management uses to budget, make operating and strategic decisions, and evaluate historical performance, and (iii) otherwise provides supplemental information that may be useful to investors in evaluating our results. We believe that the presentation of these non-GAAP financial measures, when considered together with the corresponding U.S. GAAP financial measures and the reconciliations 47  page_label: 49\"],\n",
    "    [\"Yes, the narrative description of the non-GAAP measures is consistent with the reconciliation table showing the Non-GAAP measures. The narrative description provides a general overview of the non-GAAP measures, their definitions, and how they are used, while the reconciliation table provides a detailed breakdown of the calculations used to arrive at the non-GAAP measures. The two descriptions are consistent in that they both describe the non-GAAP measures as being used to assist in comparing the company's performance on a consistent basis, and they both exclude certain items that management believes do not directly reflect the company's underlying operations. The narrative description and the reconciliation table together provide a comprehensive understanding of the non-GAAP measures and how they are calculated.\"],\n",
    "    [\"No, the non-GAAP financial measures presented by Kraft Heinz may differ from those presented by other companies, and other companies may not define these non-GAAP financial measures in the same way. This implies that the non-GAAP metrics used by Kraft Heinz are not consistent across competitors.\"],\n",
    "    [\"Based on the provided financial information, it is difficult to determine a strong correlation between sales growth and capital expenditure growth over the last 3 years and compared to competitors. The provided information only includes the financial statements of Kraft Heinz Company for the years ended December 31, 2016, and January 3, 2016, and does not provide information on the company's capital expenditures or sales growth over the last 3 years. Additionally, the provided information does not include information on the company's competitors, making it impossible to compare the company's performance to that of its competitors. Therefore, it is not possible to determine a strong correlation between sales growth and capital expenditure growth over the last 3 years and compared to competitors based on the provided information. 47 --------------------- page_label: 52 file_path: /home/dolphin/llm_projects/prac/10k_heinz/heinz_2016.pdf  The Kraft Heinz Company Reconciliation of Pro Forma Net Sales to Organic Net Sales For the Years Ended December 31, 2016 and January 3, 2016 (dollars in millions) (Unaudited)  Pro Forma Net Sales(a) Impact of Currency Impact of Divestitures Impact of 53rd Week Organic Net Sales Price Volume/Mix 2016 (52 weeks) United States $ 18,641 $ — $ — $ — $ 18,641 Canada 2,309 (84) — — 2,393 Europe 2,366 (154) — — 2,520 Rest of World 3,171 (92) — — 3,263  $ 26,487 $ (330) $ — $ — $ 26,817  2015 (53 weeks) United States $ 18,932 $ — $ — $ 233 $ 18,699 United States (1.5)% 0.0 pp 0.0 pp (1.2) pp (0.3)% 0.2 pp (0.5) pp Canada (\"],\n",
    "]"
   ]
  },
  {
   "cell_type": "code",
   "execution_count": 24,
   "metadata": {},
   "outputs": [],
   "source": [
    "# finance llama\n",
    "\n",
    "hypotheses = [\n",
    "    [\"The information is not available in the provided reports.\"],\n",
    "    [\"Based on the information provided in the financial reports, the capital expenditure level in the company over the last 3 years can be calculated as follows: 1. For the year ended December 31, 2022, our working capital was $265,781,000, compared to $102,107,000 for the year ended December 31, 2021. 2. For the year ended December 31, 2021, our working capital was $102,107,000. 3. To calculate the capital expenditure level, we need to subtract the working capital in 2021 from the working capital in 2022. 4. Capital expenditure level = Working capital in 2022 - Working capital in 2021 = $265,781,000 - $102,107,000 = $163,674,000 Therefore, the capital expenditure level in the company over the last 3 years is $163,674,000.\"],\n",
    "    [\"Yes, the company uses Non-GAAP measures.\"],\n",
    "    [\"The information is not available in the provided reports.\"],\n",
    "    [\"The non-GAAP adjustments, and the basis for excluding them from non-GAAP financial measures, are outlined below: Amortization of acquired intangible assets - We are required to amortize the intangible assets, included in our GAAP financial statements, related to the Transaction and the Acquisition. The amount of an acquisition’s purchase price allocated to intangible assets and term of its related amortization are unique to these transactions. The amortization of acquired intangible assets are non-cash charges. We believe that such charges do not reflect our operational performance. Therefore, we exclude amortization of acquired intangible assets to provide investors with a consistent basis for comparing pre- and post-transaction operating results.\"],\n",
    "    [\"The information is not available in the provided reports.\"],\n",
    "    [\"The financial reports do not provide information on the profitability measures discussed by the client.\"],\n",
    "    [\"The information is not available in the provided reports.\"],\n",
    "    [\"Based on the information provided, it is unclear whether there is a narrative description of the non-GAAP measures and if it is consistent with any reconciliation table showing the non-GAAP measures.\"],\n",
    "    [\"The information is not available in the provided reports.\"],\n",
    "    [\"The information provided in the financial reports does not include a comparison of sales growth and capital expenditure growth over the last 3 years and compared to competitors. Therefore, it is not possible to provide an answer to this question based on the provided information.\"],\n",
    "]"
   ]
  },
  {
   "cell_type": "code",
   "execution_count": 27,
   "metadata": {},
   "outputs": [],
   "source": [
    "# graph Heinz\n",
    "\n",
    "hypotheses = [\n",
    "    [\"### Sales Growth Analysis of Kraft Heinz Company Multiple analysts have provided valuable insights into different aspects of Kraft Heinz Company's operations that collectively shed light on the company's sales growth over the last three years. #### Product Categories and Revenue Growth Analyst 1 highlights the importance of key product categories for revenue growth, emphasizing a strategic focus on increasing sales within these areas. This indicates a deliberate effort to drive revenue through specific product lines [Data: Reports (146)]. #### Financial Performance and Restructuring Analyst 2 mentions that the 2015 merger led to changes in how organic net sales are calculated, reflecting restructuring and integration efforts. Such changes may have influenced the company's sales performance post-merger [Data: Reports (216)]. #### Category Performance and Global Sales Analyst 3 points out that the Condiments and Sauces category significantly contributes to Kraft Heinz's net sales, showing consistent growth across regions. This category's performance suggests a positive trend in sales, especially driven by volume and mix dynamics [Data: Reports (228)]. #### Financial Reporting Practices Analyst 4 discusses significant changes in Kraft Heinz's financial reporting practices in 2016, including segment restructuring and impairment testing. These changes likely impacted how the company presented its financial performance, which could indirectly reflect on sales growth trends [Data: Reports (263)]. #### Operating Finance and Financial Strategy Analyst 6 notes a significant increase in net cash used for financing activities between 2018 and 2019, indicating a potential shift in the company's financial strategy or increased reliance on external financing. Changes in financial strategy may influence sales growth initiatives [Data: Reports (86)]. In summary, the company's strategic focus on key product categories, restructuring efforts post-merger, strong performance in critical segments like Condiments and Sauces, and changes in financial practices and strategies all contribute to the narrative of Kraft Heinz's sales growth trajectory over the last three years. Further detailed financial analysis may be required to quantify the exact sales growth figures during this period.\"],\n",
    "    [\"### Analysis of Capital Expenditure Over the Last 3 Years Multiple analysts have delved into the capital expenditure aspects of the company, providing valuable insights into its financial activities and investment strategies. Analyst 5 highlights that the company has reported significant capital expenditures across various segments, including the United States, Canada, Europe, and the Rest of the World, showcasing a strong commitment to growth and expansion [Data: Reports (219)]. This indicates a substantial level of investment in long-term assets to support the company's operations and future development. Moreover, Analyst 7 specifically mentions the company's commitment to infrastructure development and modernization within the Canadian market through reported capital expenditures [Data: Reports (222)]. This targeted investment signifies a strategic focus on enhancing operational capabilities and efficiency within specific regions. Additionally, Analyst 12 emphasizes that capital expenditures represent a significant portion of the net cash used in investing activities, indicating active investment in long-term assets [Data: Reports (58, 181, 264)]. This continuous investment in long-term assets is crucial for driving future growth and maintaining competitiveness in the market. ### Financial Implications and Strategic Considerations The detailed financial data analysis conducted by Analyst 10 sheds light on how changes in Trade Receivables directly impact cash flow from operations, providing a direct link between operational activities and capital expenditure levels [Data: Reports (239)]. Understanding these financial intricacies is essential for assessing the company's cash flow management and asset composition, which are key determinants of its financial health and growth prospects. Furthermore, Analyst 11 underscores the significance of Property, Plant, and Equipment (PP&E) as a major component of the company's total assets, indicating a heavy reliance on tangible assets for its operations [Data: Reports (240)]. This reliance suggests a substantial level of capital expenditure in acquiring and maintaining physical assets, underscoring the company's long-term investment commitments. ### Conclusion In conclusion, the company's capital expenditure over the last 3 years appears to be substantial, with a clear focus on investing in infrastructure, operational enhancements, and long-term asset acquisitions. The reported data and financial analyses provided by the analysts collectively paint a picture of a company dedicated to strategic growth and development through prudent capital allocation and investment in key areas to drive future success. For more detailed information on specific capital expenditure figures over the last 3 years, further data points or financial reports may be necessary as the current insights offer a broader perspective on the company's investment activities.\"],\n",
    "    [\"### Non-GAAP Measures Usage by the Company The company Kraft Heinz extensively utilizes Non-GAAP measures in its financial reporting, as highlighted by multiple analysts. These measures include adjusted EBITDA, adjusted diluted EPS, basic earnings per share, and segment adjusted EBITDA. The use of Non-GAAP measures allows Kraft Heinz to present a clearer picture of its financial performance by excluding certain items such as restructuring charges, acquisition-related costs, and other significant items that may impact the comparability of financial results. This practice aims to provide additional insights to investors and analysts beyond traditional GAAP metrics [Data: Reports (243, 255, 171, 230, 211)]. ### Implications and Insights The adoption of Non-GAAP measures by Kraft Heinz reflects a common practice among companies to enhance transparency and clarity in financial reporting. Adjusted EPS, a central metric influenced by various factors like impairment losses, merger costs, and results of operations, plays a crucial role in assessing the company's profitability after adjusting for certain non-recurring items. The interconnectedness of these factors underscores the complexity involved in calculating and interpreting Adjusted EPS [Data: Reports (307, 311)]. ### Financial Performance and Adjusted EPS Analysts have noted that Kraft Heinz experienced an increase in Adjusted EPS in 2021, reaching $2.98 compared to $2.78 in the previous year. This rise in Adjusted EPS signifies positive financial performance after adjusting for non-recurring items, indicating the company's effective use of Non-GAAP measures to provide a more accurate representation of its profitability. The company's focus on Adjusted EBITDA and other Non-GAAP metrics underscores its commitment to offering stakeholders a comprehensive view of its financial health [Data: Reports (171, 211)]. In conclusion, Kraft Heinz's strategic utilization of Non-GAAP measures in financial reporting not only enhances transparency but also provides investors and analysts with valuable insights into the company's financial performance. By excluding certain items and adjusting key metrics like EPS and EBITDA, Kraft Heinz aims to offer a more accurate and holistic representation of its operational and financial status, ultimately aiding stakeholders in making informed decisions [Data: Reports (243, 255, 307, 311)].\"],\n",
    "    [\"### Management Remuneration Metrics Analysis Management remuneration at Kraft Heinz is influenced by a variety of metrics and factors as highlighted by multiple analysts who have scrutinized different aspects of the company's compensation practices. These metrics play a crucial role in determining executive pay packages and aligning them with the company's performance and strategic objectives.#### Financial Performance Metrics: Analysts have pointed out that management remuneration may be tied to financial performance metrics such as net income, earnings per share, adjusted EBITDA, and operating cash flows. These indicators reflect the company's financial health, profitability, and operational efficiency, which are key considerations in determining executive compensation [Data: Reports (213, 239, +more)]. #### Equity Compensation: Equity compensation, including stock awards like RSUs and PSUs, forms a significant component of management remuneration strategies. The use of RSUs, in particular, is highlighted as a central focus of the Equity Compensation Plan Community, indicating a strong reliance on equity-based incentives [Data: Reports (113, 268, +more)]. #### Performance-Based Awards: Performance share awards, governed by Omnibus Plans and tied to specific performance goals, are integral to the compensation structure at Kraft Heinz. These awards are designed to incentivize and reward executives based on their achievement of predetermined objectives [Data: Reports (273, 264, +more)]. #### Operational and Strategic Metrics: In addition to financial metrics, management remuneration could be linked to operational efficiency, growth rates, and strategic initiatives like digital transformation and integration program management. These factors reflect the company's focus on driving performance and aligning executive compensation with key strategic goals [Data: Reports (171, 224, +more)]. #### Regulatory and Compliance Factors: Analysts also suggest that compliance with regulations, tax planning strategies, and internal control frameworks may influence management remuneration decisions. Adherence to regulatory requirements and robust financial controls are highlighted as potential determinants of executive compensation packages [Data: Reports (251, +more)]. In summary, management remuneration at Kraft Heinz is a multifaceted process that considers a range of metrics including financial performance, equity compensation, performance-based awards, operational efficiency, strategic initiatives, and regulatory compliance. By aligning executive pay with these diverse factors, the company aims to incentivize performance, drive growth, and ensure that management compensation reflects both individual and organizational success.\"],\n",
    "    [\"### Calculation of Non-GAAP Measures Non-GAAP measures are calculated by adjusting a company's financial results to exclude certain items that are not in line with Generally Accepted Accounting Principles (GAAP). These adjustments aim to provide a clearer view of the company's ongoing operational performance by removing exceptional or irregular items that may distort the financial statements. Analysts have highlighted that non-GAAP measures typically involve excluding one-time expenses, non-cash charges, restructuring costs, gains/losses from asset sales, and other non-recurring or non-operational items [Data: Reports (211, 94, 184, 291, 283, +more)]. The adjustments made in calculating non-GAAP measures may vary between companies, leading to potential inconsistencies in reporting these metrics across industries. It is crucial for investors to carefully review the rationale behind these adjustments to understand how the non-GAAP figures are derived and what specific items are being excluded from the reported financial results [Data: Reports (253, 275, 129, 263, 301, +more)]. Furthermore, companies often provide detailed reconciliations between their non-GAAP measures and GAAP financials in their financial reports or earnings releases. These reconciliations serve to explain the reasoning behind the adjustments made and help investors and analysts evaluate the impact of these adjustments on the company's financial performance [Data: Reports (253, 275, 129, 263, 301, +more)]. Analysts emphasize that non-GAAP measures can include various metrics such as adjusted earnings, EBITDA (Earnings Before Interest, Taxes, Depreciation, and Amortization), adjusted net income, or free cash flow. These customized metrics are used to supplement GAAP financial reporting and provide additional insights into the company's core performance beyond what is captured by standard accounting principles [Data: Reports (79, 244, 230, 302, 199, +more)]. In summary, the calculation of non-GAAP measures involves careful consideration of which items to exclude or adjust, ensuring transparency, consistency, and additional insights into a company's operational health and financial strength. ### Additional Insights and Implications Understanding how non-GAAP measures are calculated is essential for investors and analysts to interpret a company's financial performance accurately. By excluding certain items that may distort the financial picture, non-GAAP measures aim to provide a more realistic view of the company's ongoing operational performance. However, it is crucial to note that while non-GAAP measures offer valuable insights, they may not always align perfectly with standard accounting principles and should be used with caution when evaluating a company's financial health [Data: Reports (211, 94, 184, 291, 283, +more)]. Investors should pay close attention to the reconciliations provided by companies between their non-GAAP measures and GAAP financials to fully grasp the adjustments made and their impact on reported results. This transparency in reporting helps stakeholders assess the company's performance accurately and compare it to industry standards [Data: Reports (253, 275, 129, 263, 301, +more)]. In conclusion, the calculation of non-GAAP measures involves a nuanced process of adjusting financial results to present a clearer view of a company's core performance. By understanding how these adjustments are made and the rationale behind them, investors can make more informed decisions regarding the company's financial standing and operational health.\"],\n",
    "    [\"### Analysis of Changes in Non-GAAP Measures Calculations Analysts have delved into various aspects of the Kraft Heinz Company's financial reporting practices, shedding light on the evolution and potential changes in the calculations of non-GAAP measures over recent years. The reports emphasize the significance of understanding the alterations in non-GAAP metrics to assess the company's financial health accurately. #### Insights from Analysts: 1. **Non-GAAP Measure Focus:** Analysts have highlighted the consistent focus on non-GAAP measures such as Adjusted EBITDA and Segment Adjusted EBITDA, providing additional insights into operational performance and financial health [Data: Reports (86, 130, 193, 160, 285, +more)]. 2. **Complexity of Adjusted EPS:** Adjusted EPS, a central metric, is influenced by factors like Impairment Losses, Merger Costs, Results of Operations, Divested Operations, Effective Tax Rate, and Other Factors, showcasing the intricate nature of calculating and interpreting this metric [Data: Reports (307)]. 3. **Accounting Standards Updates:** The issuance of various Accounting Standards Updates (ASUs) by the Financial Accounting Standards Board (FASB) has impacted financial reporting practices, potentially influencing the calculation and disclosure of non-GAAP measures [Data: Reports (277, 115, 275)]. 4. **Impact of Specific Transactions:** Specific transactions like divestitures and acquisitions have been shown to affect non-GAAP measures like Segment Adjusted EBITDA, leading to fluctuations in financial performance metrics and necessitating adjustments to non-GAAP calculations [Data: Reports (130, 92, +more)]. 5. **Consistent Application of Non-GAAP Metrics:** Instances where non-GAAP measures are used to evaluate the financial impact of impairment assessments on key brands indicate a steadfast application of non-GAAP metrics to assess intangible assets and potential impairment charges [Data: Reports (149, +more)]. #### Implications and Considerations: The detailed analyses suggest that while the adoption of certain ASUs and the evolving business landscape may have influenced financial reporting practices, the core focus on non-GAAP measures remains consistent. Understanding these changes is crucial for stakeholders to make informed decisions and accurately evaluate the company's financial performance. In conclusion, the reports provide valuable insights into the complexities and nuances of non-GAAP measures within the Kraft Heinz Company, indicating a need for continued monitoring and analysis to grasp the full scope of changes in the calculations of these metrics over time. Further investigation and data may be necessary to comprehensively assess the evolution of non-GAAP measures in recent years [Data: Reports].\"],\n",
    "    [\"### Profitability Measures Discussed in Analyst Reports. The client's report delves into various key profitability measures that shed light on **Kraft Heinz's financial performance**. These measures are crucial for assessing the company's profitability and operational efficiency. Analysts have highlighted several significant metrics: 1. **Net Income/(Loss) Excluding Redeemable Noncontrolling Interest**: This measure is emphasized as a key profitability indicator, reflecting the company's ability to generate profits after accounting for various factors [Data: Reports (165)]. 2. **Adjusted EPS**: The report underscores Adjusted EPS as a central profitability metric influenced by factors such as expenses, income, interest expenses, and impairment losses [Data: Reports (307)]. 3. **Segment Adjusted EBITDA**: Analysts discuss Segment Adjusted EBITDA as a pivotal profitability measure for Kraft Heinz, particularly in the context of the Cheese Transaction and overall financial performance [Data: Reports (130)]. 4. **Net Income Attributable to Common Shareholders**: This metric is highlighted as crucial for evaluating Kraft Heinz's financial health and performance [Data: Reports (231)]. 5. **Operating Income and Growth Rates**: The analysis of Financial Performance in EMEA & Rest of World focuses on operating income, growth rates, and net pricing across different segments, providing insights into profitability measures [Data: Reports (221)]. These profitability measures offer a comprehensive view of Kraft Heinz's financial standing and performance, enabling stakeholders to gauge the company's profitability, operational efficiency, and potential growth prospects. The client's report underscores the importance of these metrics in evaluating the company's financial health and strategic direction.\"],\n",
    "    [\"### Metrics for Management Remuneration at The Kraft Heinz Company In analyzing the metrics on which management at The Kraft Heinz Company are remunerated, insights from multiple analysts shed light on the key factors influencing executive compensation structures. The company's approach to management remuneration appears to encompass a blend of both Generally Accepted Accounting Principles (GAAP) and non-GAAP metrics. #### GAAP Metrics Influence: Analyst reports emphasize the significance of GAAP metrics in determining executive pay packages. The company's Compensation Committee reviews executive compensation structures, considering factors such as Section 162(m) regulations, which often involve GAAP metrics. Additionally, financial reports analyze executive compensation based on GAAP metrics like net income attributable to common shareholders and earnings per share [Data: Reports (231)]. These findings suggest that GAAP metrics play a crucial role in evaluating financial performance for management remuneration purposes. #### Non-GAAP Metric Consideration:While GAAP metrics are pivotal, the use of non-GAAP metrics is also notable. The Kraft Heinz Company utilizes Segment Adjusted EBITDA as a metric for management remuneration, highlighting the incorporation of non-GAAP measures in executive compensation assessments [Data: Reports (211)]. Adjusted EPS, a key metric for assessing profitability, is influenced by various factors like impairment losses and other expenses, indicating a reliance on non-GAAP metrics for performance evaluation [Data: Reports (307)]. Moreover, the emphasis on Performance Share Units (PSUs) and Restricted Stock Units (RSUs) in the company's incentive plan underscores a focus on aligning executive interests with shareholder value through long-term incentives, which may involve non-GAAP performance indicators [Data: Reports (65)]. #### Comprehensive Approach: The interplay between GAAP and non-GAAP metrics in management remuneration metrics at The Kraft Heinz Company reflects a comprehensive evaluation framework. While GAAP metrics provide a solid foundation for financial reporting and performance assessment, the inclusion of non-GAAP measures like Adjusted EPS and Segment Adjusted EBITDA offers a nuanced perspective on executive compensation tied to operational and strategic performance beyond traditional accounting standards. In conclusion, the metrics management are remunerated on at The Kraft Heinz Company encompass a mix of GAAP and non-GAAP indicators, underscoring a balanced approach to evaluating and rewarding executive performance based on both standard accounting principles and supplementary performance measures.\"],\n",
    "    [\"### Analysis of Non-GAAP Measures and Reconciliation Tables In reviewing the dataset, multiple analysts have emphasized the importance of aligning the narrative description of non-GAAP measures with reconciliation tables to ensure transparency and clarity in financial reporting. Analyst 10 highlights that The Kraft Heinz Company's narrative description of non-GAAP measures is consistent with the reconciliation table, providing stakeholders with a clear understanding of the adjustments made and their impact on reported figures [Data: Reports (298)]. This alignment not only enhances transparency but also allows for a comprehensive comprehension of the financial performance metrics. Moreover, Analyst 5 and Analyst 6 also suggest that the narrative description of non-GAAP measures may align with reconciliation tables, indicating a harmonious relationship between qualitative explanations and quantitative data. This consistency between the narrative and the reconciliation tables, as emphasized by Analyst 8, is crucial for financial transparency and accuracy [Data: Reports (93, 308), (300)]. By ensuring that the narrative descriptions correspond to the quantitative reconciliations, companies like The Kraft Heinz Company can present a more holistic view of their financial performance. The reports further underscore the significance of reconciling non-GAAP measures with GAAP measures, as mentioned by Analyst 10, to provide stakeholders with a comprehensive understanding of the company's financial performance [Data: Reports (298)]. This practice not only aligns with best reporting practices but also enhances comparability and clarity in financial disclosures. Additionally, Analyst 11 emphasizes the importance of understanding the adjustments made to financial metrics like net income and earnings per share through reconciliation tables, highlighting the need for transparency and accuracy in reporting these measures [Data: Reports (229)]. In conclusion, the alignment between the narrative description of non-GAAP measures and reconciliation tables is crucial for financial transparency, accuracy, and stakeholder understanding. By ensuring consistency and clarity between these two components, companies can enhance their reporting practices and provide a more comprehensive view of their financial performance metrics.\"],\n",
    "    [\"### Non-GAAP Metrics Consistency Across Competitors Non-GAAP metrics play a significant role in evaluating financial performance, with companies like The Kraft Heinz Company utilizing these metrics alongside U.S. GAAP figures. However, it is crucial to note that the use of non-GAAP metrics may vary among competitors [Data: Reports (298)]. Each company may choose to emphasize different non-GAAP measures based on their business models, strategic priorities, and industry norms. This variation in non-GAAP metric selection can lead to inconsistencies across competitors [Data: Reports (298)]. Analysts emphasize the importance of understanding the specific non-GAAP metrics used by each competitor for meaningful comparisons [Data: Reports (298)]. While non-GAAP metrics offer flexibility in presenting financial performance, the lack of standardized definitions and calculations for these measures can further contribute to inconsistencies in reporting among competitors [Data: Reports (298)]. Therefore, investors and analysts shall carefully review and compare non-GAAP metrics to ensure accurate interpretation of financial information. The differences in non-GAAP metric definitions among competitors may require additional analysis to facilitate accurate comparisons [Data: Reports (298)]. In summary, the use of non-GAAP metrics is subject to company-specific decisions and reporting practices, leading to potential variations in the selection and presentation of these metrics across competitors. Understanding these variations is essential for conducting thorough analyses and making informed assessments of financial performance within the industry. ### Additional Insights and Implications: The reports highlight that non-GAAP metrics are influenced by factors such as impairment losses, merger costs, and other operational drivers, all of which can significantly impact Adjusted EPS, a key non-GAAP metric used in financial performance analysis [Data: Reports (307)]. The emphasis on Adjusted EPS underscores its relevance in evaluating earnings performance after adjusting for certain non-recurring items [Data: Reports (93)]. Moreover, the community insights shed light on the importance of consumer and trade acceptance in driving revenue growth, particularly within key product categories [Data: Reports (146)]. Furthermore, the reports touch upon the competitive landscape in the food and beverage industry, emphasizing the need for companies like Kraft Heinz to navigate pricing pressures, consumer demand for affordability, and the impact of e-commerce on traditional distribution channels [Data: Reports (147)]. These industry dynamics underscore the challenges and opportunities faced by companies in maintaining market share and profitability. In conclusion, while non-GAAP metrics provide valuable insights into financial performance, their consistency across competitors may vary, necessitating careful analysis and interpretation to ensure accurate comparisons and assessments within the industry.\"],\n",
    "    [\"### Analysis of Sales Growth and Capital Expenditure Growth Correlation Multiple analysts have delved into the relationship between sales growth and capital expenditure (CAPEX) growth within the context of Kraft Heinz's financial performance over the last three years and in comparison to competitors. #### Sales Growth Importance: Analysts have highlighted the significance of sales growth as a key metric influencing a company's financial health. The success of Kraft Heinz and its competitors is intricately tied to consumer preferences and product acceptance. Consumer preferences play a pivotal role in driving sales, with a direct link between satisfying evolving tastes and maintaining positive sales figures [Data: Reports (146)]. Moreover, net sales figures for companies like Mondelez International indicate strong performance in key segments, showcasing a correlation between sales growth and strategic focus on high-performing areas [Data: Reports (227)]. #### Capital Expenditure Growth Impact: On the other hand, capital expenditures are identified as a major driver of cash outflow, reflecting significant investments in long-term assets. Analysts emphasize the relationship between capital expenditures and growth rates across different segments, suggesting a direct correlation between investment decisions and overall growth potential [Data: Reports (58)]. Furthermore, the financial performance metrics community underscores the interconnectedness of factors like adjusted EPS, EBITDA, and interest expenses, indicating how CAPEX growth influences a company's financial performance and operational efficiency [Data: Reports (307)]. #### Competitive Analysis and Industry Trends: While individual reports provide insights into Kraft Heinz's specific strategies and financial structures, comparative analysis with competitors' CAPEX and sales growth trends may reveal broader industry dynamics and competitive advantages [Data: Reports (8)]. Understanding the correlation between sales growth and CAPEX growth not only sheds light on a company's strategic investments and revenue generation but also offers a glimpse into its competitive positioning within the market [Data: Reports (8)]. In conclusion, the data suggests that there is a strong indication of a correlation between sales growth and capital expenditure growth for Kraft Heinz and its competitors. By analyzing these metrics over the last three years, one may gain valuable insights into the financial performance, strategic decisions, and competitive landscape of the companies in question. Further exploration of additional reports could provide a more comprehensive understanding of the nuances and implications of this correlation.\"],\n",
    "]"
   ]
  },
  {
   "cell_type": "code",
   "execution_count": null,
   "metadata": {},
   "outputs": [],
   "source": [
    "# Newell references\n",
    "\n",
    "references = [\n",
    "    [\"What is the sales growth in the company over the last 3 years?\"],\n",
    "    [\"What is the level of capital expenditure in the company over the last 3 years?\"],\n",
    "    [\"Does the company use Non-GAAP measures?\"],  \n",
    "    [\"What metrics is management remuneration based on?\"],\n",
    "    [\"How are the non-GAAP measures calculated?\"],\n",
    "    [\"Have the calculations of the non-GAAP measures changed in the last number of years?\"],\n",
    "    [\"What profitability measures does the client discuss in the report (e.g., Profit before tax, EBITDA, EBIT)?\"],\n",
    "    [\"Are the metrics management are remunerated on based on GAAP or non-GAAP metrics?\"],\n",
    "    [\"If there is a narrative description of the non-GAAP measures is it consistent with any reconciliation table showing the Non-GAAP measures?\"],\n",
    "    [\"For the non-GAAP metrics that are used, are these consistent across competitors?\"],\n",
    "    [\"Is there a strong correlation between sales growth and capital expenditure growth over the last 3 years and compared to competitors? (this can be changed depending on the metrics that are being used – e.g., could swap sales and CAPEX for two other metrics).\"],\n",
    "]"
   ]
  },
  {
   "cell_type": "code",
   "execution_count": null,
   "metadata": {},
   "outputs": [],
   "source": [
    "hypotheses = [\n",
    "    [\"What is the sales growth in the company over the last 3 years?\"],\n",
    "    [\"What is the level of capital expenditure in the company over the last 3 years?\"],\n",
    "    [\"Does the company use Non-GAAP measures?\"],  \n",
    "    [\"What metrics is management remuneration based on?\"],\n",
    "    [\"How are the non-GAAP measures calculated?\"],\n",
    "    [\"Have the calculations of the non-GAAP measures changed in the last number of years?\"],\n",
    "    [\"What profitability measures does the client discuss in the report (e.g., Profit before tax, EBITDA, EBIT)?\"],\n",
    "    [\"Are the metrics management are remunerated on based on GAAP or non-GAAP metrics?\"],\n",
    "    [\"If there is a narrative description of the non-GAAP measures is it consistent with any reconciliation table showing the Non-GAAP measures?\"],\n",
    "    [\"For the non-GAAP metrics that are used, are these consistent across competitors?\"],\n",
    "    [\"Is there a strong correlation between sales growth and capital expenditure growth over the last 3 years and compared to competitors? (this can be changed depending on the metrics that are being used – e.g., could swap sales and CAPEX for two other metrics).\"],\n",
    "]"
   ]
  },
  {
   "cell_type": "code",
   "execution_count": null,
   "metadata": {},
   "outputs": [],
   "source": []
  },
  {
   "cell_type": "code",
   "execution_count": 28,
   "metadata": {},
   "outputs": [],
   "source": [
    "import nltk\n",
    "from nltk.translate.bleu_score import sentence_bleu, SmoothingFunction, brevity_penalty, modified_precision\n",
    "from rouge_score import rouge_scorer\n",
    "\n",
    "# Custom function to handle BLEU score calculation\n",
    "def custom_sentence_bleu(references, hypothesis, smoothing_function=None):\n",
    "    p_numerators = [0] * 4\n",
    "    p_denominators = [0] * 4\n",
    "\n",
    "    for i in range(1, 5):\n",
    "        p_i = modified_precision(references, hypothesis, i)\n",
    "        p_numerators[i - 1] = p_i.numerator\n",
    "        p_denominators[i - 1] = p_i.denominator\n",
    "\n",
    "    # Calculate brevity penalty\n",
    "    ref_lens = [len(ref) for ref in references]\n",
    "    hyp_len = len(hypothesis)\n",
    "    closest_ref_len = min(ref_lens, key=lambda ref_len: (abs(ref_len - hyp_len), ref_len))\n",
    "    bp = brevity_penalty(closest_ref_len, hyp_len)\n",
    "\n",
    "    # Calculate BLEU score\n",
    "    p_ns = [n / d if d != 0 else 0 for n, d in zip(p_numerators, p_denominators)]\n",
    "    s = (0.25 * p ** 0.25 for p in p_ns)\n",
    "    bleu = bp * (sum(s))\n",
    "    return bleu\n",
    "\n",
    "# Function to calculate BLEU scores\n",
    "def calculate_bleu(hypotheses, references):\n",
    "    smoothing_fn = SmoothingFunction().method4\n",
    "    bleu_scores = []\n",
    "    for hyp, ref in zip(hypotheses, references):\n",
    "        # Ensure hyp and ref are strings\n",
    "        if isinstance(hyp, list):\n",
    "            hyp = \" \".join(hyp)\n",
    "        if isinstance(ref, list):\n",
    "            ref = \" \".join(ref)\n",
    "        score = custom_sentence_bleu([ref.split()], hyp.split(), smoothing_function=smoothing_fn)\n",
    "        bleu_scores.append(score)\n",
    "    return bleu_scores\n",
    "\n",
    "# Function to calculate ROUGE scores\n",
    "def calculate_rouge(hypothesis, reference):\n",
    "    scorer = rouge_scorer.RougeScorer(['rouge1', 'rougeL'], use_stemmer=True)\n",
    "    return scorer.score(reference, hypothesis)"
   ]
  },
  {
   "cell_type": "code",
   "execution_count": 12,
   "metadata": {},
   "outputs": [
    {
     "name": "stdout",
     "output_type": "stream",
     "text": [
      "BLEU Scores: [0.19021262169164496, 0.0, 0.11478744233307164, 0.16125002852110637, 0.09311099124203379, 0.13816952653691258, 0.3257182711837406, 0.05648794402887595, 0.43898522030982384, 0.11821770112539698, 0.11576444482427424]\n",
      "ROUGE Scores: [{'rouge1': Score(precision=0.0684931506849315, recall=0.4166666666666667, fmeasure=0.1176470588235294), 'rougeL': Score(precision=0.0547945205479452, recall=0.3333333333333333, fmeasure=0.09411764705882353)}, {'rouge1': Score(precision=0.08695652173913043, recall=0.25, fmeasure=0.12903225806451613), 'rougeL': Score(precision=0.08695652173913043, recall=0.25, fmeasure=0.12903225806451613)}, {'rouge1': Score(precision=0.10638297872340426, recall=0.8333333333333334, fmeasure=0.18867924528301885), 'rougeL': Score(precision=0.10638297872340426, recall=0.8333333333333334, fmeasure=0.18867924528301885)}, {'rouge1': Score(precision=0.24528301886792453, recall=0.24528301886792453, fmeasure=0.24528301886792453), 'rougeL': Score(precision=0.1320754716981132, recall=0.1320754716981132, fmeasure=0.1320754716981132)}, {'rouge1': Score(precision=0.3956043956043956, recall=0.18090452261306533, fmeasure=0.2482758620689655), 'rougeL': Score(precision=0.25274725274725274, recall=0.11557788944723618, fmeasure=0.1586206896551724)}, {'rouge1': Score(precision=0.2, recall=0.1891891891891892, fmeasure=0.19444444444444445), 'rougeL': Score(precision=0.2, recall=0.1891891891891892, fmeasure=0.19444444444444445)}, {'rouge1': Score(precision=0.5714285714285714, recall=0.5333333333333333, fmeasure=0.5517241379310344), 'rougeL': Score(precision=0.2857142857142857, recall=0.26666666666666666, fmeasure=0.2758620689655172)}, {'rouge1': Score(precision=0.75, recall=0.20930232558139536, fmeasure=0.32727272727272727), 'rougeL': Score(precision=0.5833333333333334, recall=0.16279069767441862, fmeasure=0.2545454545454546)}, {'rouge1': Score(precision=0.07692307692307693, recall=0.7777777777777778, fmeasure=0.13999999999999999), 'rougeL': Score(precision=0.07692307692307693, recall=0.7777777777777778, fmeasure=0.13999999999999999)}, {'rouge1': Score(precision=0.13953488372093023, recall=0.3, fmeasure=0.1904761904761905), 'rougeL': Score(precision=0.11627906976744186, recall=0.25, fmeasure=0.15873015873015872)}, {'rouge1': Score(precision=0.05555555555555555, recall=0.45454545454545453, fmeasure=0.099009900990099), 'rougeL': Score(precision=0.044444444444444446, recall=0.36363636363636365, fmeasure=0.07920792079207921)}]\n"
     ]
    }
   ],
   "source": [
    "# GTP-4o BGE\n",
    "bleu_scores = calculate_bleu(hypotheses, references)\n",
    "rouge_scores = []\n",
    "\n",
    "for hypothesis, reference in zip(hypotheses, references):\n",
    "    # Ensure hypothesis and reference are strings\n",
    "    if isinstance(hypothesis, list):\n",
    "        hypothesis = \" \".join(hypothesis)\n",
    "    if isinstance(reference, list):\n",
    "        reference = \" \".join(reference)\n",
    "    \n",
    "    rouge = calculate_rouge(hypothesis, reference)\n",
    "    rouge_scores.append(rouge)\n",
    "\n",
    "print(\"BLEU Scores:\", bleu_scores)\n",
    "print(\"ROUGE Scores:\", rouge_scores)"
   ]
  },
  {
   "cell_type": "code",
   "execution_count": 15,
   "metadata": {},
   "outputs": [
    {
     "name": "stdout",
     "output_type": "stream",
     "text": [
      "BLEU Scores: [0.18689355488627285, 0.0, 0.10820038190677135, 0.22735398427971826, 0.7999155375278365, 0.15056936214229594, 0.26373373608922623, 0.05648794402887595, 0.4547265534124366, 0.13002425023823191, 0.13166009696198167]\n",
      "ROUGE Scores: [{'rouge1': Score(precision=0.05333333333333334, recall=0.3333333333333333, fmeasure=0.09195402298850575), 'rougeL': Score(precision=0.04, recall=0.25, fmeasure=0.06896551724137932)}, {'rouge1': Score(precision=0.045454545454545456, recall=0.25, fmeasure=0.07692307692307693), 'rougeL': Score(precision=0.045454545454545456, recall=0.25, fmeasure=0.07692307692307693)}, {'rouge1': Score(precision=0.0847457627118644, recall=0.8333333333333334, fmeasure=0.15384615384615385), 'rougeL': Score(precision=0.0847457627118644, recall=0.8333333333333334, fmeasure=0.15384615384615385)}, {'rouge1': Score(precision=0.1956521739130435, recall=0.16981132075471697, fmeasure=0.18181818181818182), 'rougeL': Score(precision=0.13043478260869565, recall=0.11320754716981132, fmeasure=0.1212121212121212)}, {'rouge1': Score(precision=0.6577777777777778, recall=0.7437185929648241, fmeasure=0.6981132075471699), 'rougeL': Score(precision=0.5955555555555555, recall=0.6733668341708543, fmeasure=0.6320754716981132)}, {'rouge1': Score(precision=0.16883116883116883, recall=0.35135135135135137, fmeasure=0.22807017543859648), 'rougeL': Score(precision=0.1038961038961039, recall=0.21621621621621623, fmeasure=0.14035087719298245)}, {'rouge1': Score(precision=0.38461538461538464, recall=0.3333333333333333, fmeasure=0.3571428571428571), 'rougeL': Score(precision=0.23076923076923078, recall=0.2, fmeasure=0.21428571428571427)}, {'rouge1': Score(precision=0.75, recall=0.20930232558139536, fmeasure=0.32727272727272727), 'rougeL': Score(precision=0.5833333333333334, recall=0.16279069767441862, fmeasure=0.2545454545454546)}, {'rouge1': Score(precision=0.08974358974358974, recall=0.7777777777777778, fmeasure=0.16091954022988506), 'rougeL': Score(precision=0.08974358974358974, recall=0.7777777777777778, fmeasure=0.16091954022988506)}, {'rouge1': Score(precision=0.13636363636363635, recall=0.3, fmeasure=0.18749999999999997), 'rougeL': Score(precision=0.11363636363636363, recall=0.25, fmeasure=0.15625)}, {'rouge1': Score(precision=0.10256410256410256, recall=0.36363636363636365, fmeasure=0.16), 'rougeL': Score(precision=0.07692307692307693, recall=0.2727272727272727, fmeasure=0.12000000000000001)}]\n"
     ]
    }
   ],
   "source": [
    "# GTP-4o Finembed\n",
    "bleu_scores = calculate_bleu(hypotheses, references)\n",
    "rouge_scores = []\n",
    "\n",
    "for hypothesis, reference in zip(hypotheses, references):\n",
    "    # Ensure hypothesis and reference are strings\n",
    "    if isinstance(hypothesis, list):\n",
    "        hypothesis = \" \".join(hypothesis)\n",
    "    if isinstance(reference, list):\n",
    "        reference = \" \".join(reference)\n",
    "    \n",
    "    rouge = calculate_rouge(hypothesis, reference)\n",
    "    rouge_scores.append(rouge)\n",
    "\n",
    "print(\"BLEU Scores:\", bleu_scores)\n",
    "print(\"ROUGE Scores:\", rouge_scores)"
   ]
  },
  {
   "cell_type": "code",
   "execution_count": 18,
   "metadata": {},
   "outputs": [
    {
     "name": "stdout",
     "output_type": "stream",
     "text": [
      "BLEU Scores: [0.07925582846308576, 0.13941066160204152, 0.07673458475208521, 0.20584107946110436, 0.23257548413012896, 0.1943086483967829, 0.23221549978851613, 0.18547710691034786, 0.43243994277624465, 0.1129502504512306, 0.09413296480300723]\n",
      "ROUGE Scores: [{'rouge1': Score(precision=0.013761467889908258, recall=0.25, fmeasure=0.02608695652173913), 'rougeL': Score(precision=0.009174311926605505, recall=0.16666666666666666, fmeasure=0.017391304347826087)}, {'rouge1': Score(precision=0.009615384615384616, recall=0.375, fmeasure=0.01875), 'rougeL': Score(precision=0.009615384615384616, recall=0.375, fmeasure=0.01875)}, {'rouge1': Score(precision=0.013123359580052493, recall=0.8333333333333334, fmeasure=0.02583979328165375), 'rougeL': Score(precision=0.013123359580052493, recall=0.8333333333333334, fmeasure=0.02583979328165375)}, {'rouge1': Score(precision=0.12037037037037036, recall=0.24528301886792453, fmeasure=0.16149068322981366), 'rougeL': Score(precision=0.06481481481481481, recall=0.1320754716981132, fmeasure=0.08695652173913043)}, {'rouge1': Score(precision=0.23636363636363636, recall=0.457286432160804, fmeasure=0.3116438356164384), 'rougeL': Score(precision=0.10909090909090909, recall=0.21105527638190955, fmeasure=0.14383561643835616)}, {'rouge1': Score(precision=0.08383233532934131, recall=0.3783783783783784, fmeasure=0.13725490196078433), 'rougeL': Score(precision=0.05389221556886228, recall=0.24324324324324326, fmeasure=0.08823529411764706)}, {'rouge1': Score(precision=0.025936599423631124, recall=0.6, fmeasure=0.049723756906077346), 'rougeL': Score(precision=0.025936599423631124, recall=0.6, fmeasure=0.049723756906077346)}, {'rouge1': Score(precision=0.047244094488188976, recall=0.4186046511627907, fmeasure=0.08490566037735849), 'rougeL': Score(precision=0.04199475065616798, recall=0.37209302325581395, fmeasure=0.07547169811320754)}, {'rouge1': Score(precision=0.0673076923076923, recall=0.7777777777777778, fmeasure=0.12389380530973451), 'rougeL': Score(precision=0.0673076923076923, recall=0.7777777777777778, fmeasure=0.12389380530973451)}, {'rouge1': Score(precision=0.1346153846153846, recall=0.35, fmeasure=0.19444444444444445), 'rougeL': Score(precision=0.09615384615384616, recall=0.25, fmeasure=0.1388888888888889)}, {'rouge1': Score(precision=0.02403846153846154, recall=0.45454545454545453, fmeasure=0.045662100456621), 'rougeL': Score(precision=0.02403846153846154, recall=0.45454545454545453, fmeasure=0.045662100456621)}]\n"
     ]
    }
   ],
   "source": [
    "# Llama 3 BGE\n",
    "bleu_scores = calculate_bleu(hypotheses, references)\n",
    "rouge_scores = []\n",
    "\n",
    "for hypothesis, reference in zip(hypotheses, references):\n",
    "    # Ensure hypothesis and reference are strings\n",
    "    if isinstance(hypothesis, list):\n",
    "        hypothesis = \" \".join(hypothesis)\n",
    "    if isinstance(reference, list):\n",
    "        reference = \" \".join(reference)\n",
    "    \n",
    "    rouge = calculate_rouge(hypothesis, reference)\n",
    "    rouge_scores.append(rouge)\n",
    "\n",
    "print(\"BLEU Scores:\", bleu_scores)\n",
    "print(\"ROUGE Scores:\", rouge_scores)"
   ]
  },
  {
   "cell_type": "code",
   "execution_count": 23,
   "metadata": {},
   "outputs": [
    {
     "name": "stdout",
     "output_type": "stream",
     "text": [
      "BLEU Scores: [0.12143939550272875, 0.0, 0.09222349330836013, 0.2336071927291094, 0.5239159918969996, 0.20451296676133596, 0.24838364494315035, 0.1773848988283469, 0.4127629348735615, 0.1141584463741828, 0.0883022410213782]\n",
      "ROUGE Scores: [{'rouge1': Score(precision=0.00954653937947494, recall=0.3333333333333333, fmeasure=0.018561484918793506), 'rougeL': Score(precision=0.00954653937947494, recall=0.3333333333333333, fmeasure=0.018561484918793506)}, {'rouge1': Score(precision=0.0392156862745098, recall=0.25, fmeasure=0.06779661016949153), 'rougeL': Score(precision=0.0392156862745098, recall=0.25, fmeasure=0.06779661016949153)}, {'rouge1': Score(precision=0.02976190476190476, recall=0.8333333333333334, fmeasure=0.057471264367816084), 'rougeL': Score(precision=0.02976190476190476, recall=0.8333333333333334, fmeasure=0.057471264367816084)}, {'rouge1': Score(precision=0.04975124378109453, recall=0.37735849056603776, fmeasure=0.08791208791208792), 'rougeL': Score(precision=0.03482587064676617, recall=0.2641509433962264, fmeasure=0.061538461538461535)}, {'rouge1': Score(precision=0.287598944591029, recall=0.5477386934673367, fmeasure=0.37716262975778553), 'rougeL': Score(precision=0.15303430079155672, recall=0.2914572864321608, fmeasure=0.20069204152249134)}, {'rouge1': Score(precision=0.1038961038961039, recall=0.43243243243243246, fmeasure=0.16753926701570682), 'rougeL': Score(precision=0.06493506493506493, recall=0.2702702702702703, fmeasure=0.10471204188481674)}, {'rouge1': Score(precision=0.03806228373702422, recall=0.7333333333333333, fmeasure=0.07236842105263158), 'rougeL': Score(precision=0.02768166089965398, recall=0.5333333333333333, fmeasure=0.052631578947368425)}, {'rouge1': Score(precision=0.04582210242587601, recall=0.3953488372093023, fmeasure=0.0821256038647343), 'rougeL': Score(precision=0.04043126684636118, recall=0.3488372093023256, fmeasure=0.07246376811594203)}, {'rouge1': Score(precision=0.05511811023622047, recall=0.7777777777777778, fmeasure=0.10294117647058823), 'rougeL': Score(precision=0.05511811023622047, recall=0.7777777777777778, fmeasure=0.10294117647058823)}, {'rouge1': Score(precision=0.14285714285714285, recall=0.35, fmeasure=0.20289855072463767), 'rougeL': Score(precision=0.10204081632653061, recall=0.25, fmeasure=0.14492753623188406)}, {'rouge1': Score(precision=0.022900763358778626, recall=0.5454545454545454, fmeasure=0.04395604395604395), 'rougeL': Score(precision=0.022900763358778626, recall=0.5454545454545454, fmeasure=0.04395604395604395)}]\n"
     ]
    }
   ],
   "source": [
    "# Llama 3 finembed\n",
    "bleu_scores = calculate_bleu(hypotheses, references)\n",
    "rouge_scores = []\n",
    "\n",
    "for hypothesis, reference in zip(hypotheses, references):\n",
    "    # Ensure hypothesis and reference are strings\n",
    "    if isinstance(hypothesis, list):\n",
    "        hypothesis = \" \".join(hypothesis)\n",
    "    if isinstance(reference, list):\n",
    "        reference = \" \".join(reference)\n",
    "    \n",
    "    rouge = calculate_rouge(hypothesis, reference)\n",
    "    rouge_scores.append(rouge)\n",
    "\n",
    "print(\"BLEU Scores:\", bleu_scores)\n",
    "print(\"ROUGE Scores:\", rouge_scores)"
   ]
  },
  {
   "cell_type": "code",
   "execution_count": 26,
   "metadata": {},
   "outputs": [
    {
     "name": "stdout",
     "output_type": "stream",
     "text": [
      "BLEU Scores: [0.0, 0.09961702829068964, 0.1597357760615681, 0.0018037827960926955, 0.13255760347457599, 0.008462940876809549, 0.12703318703865368, 0.006123343282385967, 0.41413647210631677, 0.0, 0.11478744233307164]\n",
      "ROUGE Scores: [{'rouge1': Score(precision=0.0, recall=0.0, fmeasure=0.0), 'rougeL': Score(precision=0.0, recall=0.0, fmeasure=0.0)}, {'rouge1': Score(precision=0.03125, recall=0.5, fmeasure=0.058823529411764705), 'rougeL': Score(precision=0.03125, recall=0.5, fmeasure=0.058823529411764705)}, {'rouge1': Score(precision=0.7142857142857143, recall=0.8333333333333334, fmeasure=0.7692307692307692), 'rougeL': Score(precision=0.7142857142857143, recall=0.8333333333333334, fmeasure=0.7692307692307692)}, {'rouge1': Score(precision=0.2222222222222222, recall=0.03773584905660377, fmeasure=0.06451612903225806), 'rougeL': Score(precision=0.2222222222222222, recall=0.03773584905660377, fmeasure=0.06451612903225806)}, {'rouge1': Score(precision=0.35135135135135137, recall=0.19597989949748743, fmeasure=0.25161290322580643), 'rougeL': Score(precision=0.17117117117117117, recall=0.09547738693467336, fmeasure=0.12258064516129033)}, {'rouge1': Score(precision=0.5555555555555556, recall=0.13513513513513514, fmeasure=0.2173913043478261), 'rougeL': Score(precision=0.3333333333333333, recall=0.08108108108108109, fmeasure=0.13043478260869568)}, {'rouge1': Score(precision=0.2, recall=0.2, fmeasure=0.20000000000000004), 'rougeL': Score(precision=0.13333333333333333, recall=0.13333333333333333, fmeasure=0.13333333333333333)}, {'rouge1': Score(precision=0.2222222222222222, recall=0.046511627906976744, fmeasure=0.07692307692307693), 'rougeL': Score(precision=0.2222222222222222, recall=0.046511627906976744, fmeasure=0.07692307692307693)}, {'rouge1': Score(precision=0.21212121212121213, recall=0.7777777777777778, fmeasure=0.3333333333333333), 'rougeL': Score(precision=0.21212121212121213, recall=0.7777777777777778, fmeasure=0.3333333333333333)}, {'rouge1': Score(precision=0.0, recall=0.0, fmeasure=0.0), 'rougeL': Score(precision=0.0, recall=0.0, fmeasure=0.0)}, {'rouge1': Score(precision=0.044444444444444446, recall=0.18181818181818182, fmeasure=0.07142857142857142), 'rougeL': Score(precision=0.044444444444444446, recall=0.18181818181818182, fmeasure=0.07142857142857142)}]\n"
     ]
    }
   ],
   "source": [
    "# finance llama\n",
    "bleu_scores = calculate_bleu(hypotheses, references)\n",
    "rouge_scores = []\n",
    "\n",
    "for hypothesis, reference in zip(hypotheses, references):\n",
    "    # Ensure hypothesis and reference are strings\n",
    "    if isinstance(hypothesis, list):\n",
    "        hypothesis = \" \".join(hypothesis)\n",
    "    if isinstance(reference, list):\n",
    "        reference = \" \".join(reference)\n",
    "    \n",
    "    rouge = calculate_rouge(hypothesis, reference)\n",
    "    rouge_scores.append(rouge)\n",
    "\n",
    "print(\"BLEU Scores:\", bleu_scores)\n",
    "print(\"ROUGE Scores:\", rouge_scores)"
   ]
  },
  {
   "cell_type": "code",
   "execution_count": 29,
   "metadata": {},
   "outputs": [
    {
     "name": "stdout",
     "output_type": "stream",
     "text": [
      "BLEU Scores: [0.12914572787331918, 0.055797372327619395, 0.06933752452815364, 0.16425539885663631, 0.21630469668270708, 0.16439510529195814, 0.163162275773167, 0.19033677436778096, 0.3142073116894407, 0.22176219887301504, 0.09265546528291282]\n",
      "ROUGE Scores: [{'rouge1': Score(precision=0.01524390243902439, recall=0.4166666666666667, fmeasure=0.02941176470588235), 'rougeL': Score(precision=0.01524390243902439, recall=0.4166666666666667, fmeasure=0.02941176470588235)}, {'rouge1': Score(precision=0.004842615012106538, recall=0.25, fmeasure=0.009501187648456057), 'rougeL': Score(precision=0.004842615012106538, recall=0.25, fmeasure=0.009501187648456057)}, {'rouge1': Score(precision=0.011363636363636364, recall=0.6666666666666666, fmeasure=0.0223463687150838), 'rougeL': Score(precision=0.011363636363636364, recall=0.6666666666666666, fmeasure=0.0223463687150838)}, {'rouge1': Score(precision=0.058011049723756904, recall=0.39622641509433965, fmeasure=0.10120481927710842), 'rougeL': Score(precision=0.03867403314917127, recall=0.2641509433962264, fmeasure=0.06746987951807228)}, {'rouge1': Score(precision=0.1523809523809524, recall=0.4020100502512563, fmeasure=0.22099447513812154), 'rougeL': Score(precision=0.08190476190476191, recall=0.21608040201005024, fmeasure=0.11878453038674033)}, {'rouge1': Score(precision=0.05102040816326531, recall=0.5405405405405406, fmeasure=0.09324009324009325), 'rougeL': Score(precision=0.03316326530612245, recall=0.35135135135135137, fmeasure=0.06060606060606061)}, {'rouge1': Score(precision=0.04048582995951417, recall=0.6666666666666666, fmeasure=0.07633587786259541), 'rougeL': Score(precision=0.032388663967611336, recall=0.5333333333333333, fmeasure=0.06106870229007634)}, {'rouge1': Score(precision=0.04594594594594595, recall=0.3953488372093023, fmeasure=0.08232445520581114), 'rougeL': Score(precision=0.03783783783783784, recall=0.32558139534883723, fmeasure=0.06779661016949153)}, {'rouge1': Score(precision=0.024922118380062305, recall=0.8888888888888888, fmeasure=0.048484848484848485), 'rougeL': Score(precision=0.024922118380062305, recall=0.8888888888888888, fmeasure=0.048484848484848485)}, {'rouge1': Score(precision=0.03125, recall=0.65, fmeasure=0.05963302752293578), 'rougeL': Score(precision=0.026442307692307692, recall=0.55, fmeasure=0.05045871559633027)}, {'rouge1': Score(precision=0.0213903743315508, recall=0.7272727272727273, fmeasure=0.04155844155844156), 'rougeL': Score(precision=0.01871657754010695, recall=0.6363636363636364, fmeasure=0.03636363636363636)}]\n"
     ]
    }
   ],
   "source": [
    "# graph\n",
    "bleu_scores = calculate_bleu(hypotheses, references)\n",
    "rouge_scores = []\n",
    "\n",
    "for hypothesis, reference in zip(hypotheses, references):\n",
    "    # Ensure hypothesis and reference are strings\n",
    "    if isinstance(hypothesis, list):\n",
    "        hypothesis = \" \".join(hypothesis)\n",
    "    if isinstance(reference, list):\n",
    "        reference = \" \".join(reference)\n",
    "    \n",
    "    rouge = calculate_rouge(hypothesis, reference)\n",
    "    rouge_scores.append(rouge)\n",
    "\n",
    "print(\"BLEU Scores:\", bleu_scores)\n",
    "print(\"ROUGE Scores:\", rouge_scores)"
   ]
  },
  {
   "cell_type": "code",
   "execution_count": null,
   "metadata": {},
   "outputs": [],
   "source": []
  }
 ],
 "metadata": {
  "kernelspec": {
   "display_name": "base",
   "language": "python",
   "name": "python3"
  },
  "language_info": {
   "codemirror_mode": {
    "name": "ipython",
    "version": 3
   },
   "file_extension": ".py",
   "mimetype": "text/x-python",
   "name": "python",
   "nbconvert_exporter": "python",
   "pygments_lexer": "ipython3",
   "version": "3.10.14"
  }
 },
 "nbformat": 4,
 "nbformat_minor": 2
}
