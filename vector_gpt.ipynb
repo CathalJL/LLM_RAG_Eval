{
 "cells": [
  {
   "cell_type": "code",
   "execution_count": 1,
   "metadata": {},
   "outputs": [],
   "source": [
    "import os\n",
    "\n",
    "os.environ['OPENAI_API_KEY'] = \n",
    "hf_token = "
   ]
  },
  {
   "cell_type": "code",
   "execution_count": 2,
   "metadata": {},
   "outputs": [],
   "source": [
    "from llama_index.llms.openai import OpenAI\n",
    "from llama_index.core.settings import Settings\n",
    "\n",
    "llm = OpenAI(temperature=0, model=\"gpt-4o\")\n",
    "Settings.llm = llm"
   ]
  },
  {
   "cell_type": "code",
   "execution_count": 3,
   "metadata": {},
   "outputs": [
    {
     "name": "stderr",
     "output_type": "stream",
     "text": [
      "/home/dolphin/miniconda3/lib/python3.12/site-packages/tqdm/auto.py:21: TqdmWarning: IProgress not found. Please update jupyter and ipywidgets. See https://ipywidgets.readthedocs.io/en/stable/user_install.html\n",
      "  from .autonotebook import tqdm as notebook_tqdm\n",
      "2024-07-07 23:19:17.632565: E external/local_xla/xla/stream_executor/cuda/cuda_fft.cc:479] Unable to register cuFFT factory: Attempting to register factory for plugin cuFFT when one has already been registered\n",
      "2024-07-07 23:19:17.644047: E external/local_xla/xla/stream_executor/cuda/cuda_dnn.cc:10575] Unable to register cuDNN factory: Attempting to register factory for plugin cuDNN when one has already been registered\n",
      "2024-07-07 23:19:17.644071: E external/local_xla/xla/stream_executor/cuda/cuda_blas.cc:1442] Unable to register cuBLAS factory: Attempting to register factory for plugin cuBLAS when one has already been registered\n",
      "2024-07-07 23:19:17.651954: I tensorflow/core/platform/cpu_feature_guard.cc:210] This TensorFlow binary is optimized to use available CPU instructions in performance-critical operations.\n",
      "To enable the following instructions: AVX2 FMA, in other operations, rebuild TensorFlow with the appropriate compiler flags.\n",
      "2024-07-07 23:19:18.222332: W tensorflow/compiler/tf2tensorrt/utils/py_utils.cc:38] TF-TRT Warning: Could not find TensorRT\n",
      "/home/dolphin/miniconda3/lib/python3.12/site-packages/huggingface_hub/file_download.py:1132: FutureWarning: `resume_download` is deprecated and will be removed in version 1.0.0. Downloads always resume when possible. If you want to force a new download, use `force_download=True`.\n",
      "  warnings.warn(\n"
     ]
    }
   ],
   "source": [
    "from llama_index.embeddings.huggingface import HuggingFaceEmbedding\n",
    "from llama_index.core import Settings\n",
    "#from llama_index.llms.huggingface import HuggingFaceLLM\n",
    "\n",
    "embed_model = HuggingFaceEmbedding(model_name=\"Xeolus/fin_embed_large\")\n",
    "Settings.embed_model = embed_model"
   ]
  },
  {
   "cell_type": "code",
   "execution_count": null,
   "metadata": {},
   "outputs": [],
   "source": [
    "# persist storage\n",
    "# ./storage_newell_gpt_bge_vec\n",
    "# ./storage_newell_gpt_fin_vec\n",
    "#"
   ]
  },
  {
   "cell_type": "code",
   "execution_count": 4,
   "metadata": {},
   "outputs": [],
   "source": [
    "from llama_index.core import (\n",
    "    VectorStoreIndex,\n",
    "    SimpleDirectoryReader,\n",
    "    StorageContext,\n",
    "    load_index_from_storage,\n",
    ")\n",
    "\n",
    "\n",
    "\n",
    "# check if storage already exists\n",
    "PERSIST_DIR = \"./storage_heinz_gpt_fin_vec\"\n",
    "if not os.path.exists(PERSIST_DIR):\n",
    "    # load the documents and create the index\n",
    "    documents = SimpleDirectoryReader(\"/llm_projects/prac/10k_heinz\").load_data()\n",
    "    index = VectorStoreIndex.from_documents(documents)\n",
    "    # store it\n",
    "    index.storage_context.persist(persist_dir=PERSIST_DIR)\n",
    "else:\n",
    "    # load the existing index\n",
    "    storage_context = StorageContext.from_defaults(persist_dir=PERSIST_DIR)\n",
    "    index = load_index_from_storage(storage_context)\n",
    "\n",
    "query_engine = index.as_query_engine()"
   ]
  },
  {
   "cell_type": "code",
   "execution_count": 5,
   "metadata": {},
   "outputs": [
    {
     "name": "stdout",
     "output_type": "stream",
     "text": [
      "The sales growth of the company over the last three years is as follows:\n",
      "\n",
      "- For the year ended January 3, 2016, the total net sales were $18,338 million.\n",
      "- For the year ended December 28, 2014, the total net sales were $10,922 million.\n",
      "- For the period from February 8 to December 29, 2013, the total net sales were $6,240 million.\n",
      "\n",
      "This shows a significant increase in net sales over the three-year period.\n"
     ]
    }
   ],
   "source": [
    "response = query_engine.query(\"What is the sales growth in the company over the most last 3 years?\")\n",
    "print(response)"
   ]
  },
  {
   "cell_type": "code",
   "execution_count": 6,
   "metadata": {},
   "outputs": [
    {
     "name": "stdout",
     "output_type": "stream",
     "text": [
      "The level of capital expenditure in the company over the last 3 years was as follows:\n",
      "- For the year ending December 31, 2016: $1,247 million\n",
      "- For the year ending January 3, 2016: $648 million\n",
      "- For the year ending December 28, 2014: $399 million\n"
     ]
    }
   ],
   "source": [
    "response = query_engine.query(\"What is the level of capital expenditure in the company over the last 3 years?\")\n",
    "print(response)"
   ]
  },
  {
   "cell_type": "code",
   "execution_count": 7,
   "metadata": {},
   "outputs": [
    {
     "name": "stdout",
     "output_type": "stream",
     "text": [
      "Yes, the company uses Non-GAAP measures such as Organic Net Sales, Adjusted EBITDA, and Adjusted EPS to supplement their consolidated financial statements prepared in accordance with U.S. GAAP. These measures are used to assist in comparing performance on a consistent basis by removing the impact of certain items that management believes do not directly reflect underlying operations.\n"
     ]
    }
   ],
   "source": [
    "response = query_engine.query(\"Does the company use Non-GAAP measures?\")\n",
    "print(response)"
   ]
  },
  {
   "cell_type": "code",
   "execution_count": 8,
   "metadata": {},
   "outputs": [
    {
     "name": "stdout",
     "output_type": "stream",
     "text": [
      "Management remuneration is based on non-GAAP financial measures such as Organic Net Sales, Adjusted EBITDA, and Adjusted EPS. These metrics are used to assist in comparing performance on a consistent basis by removing the impact of certain items that do not directly reflect underlying operations.\n"
     ]
    }
   ],
   "source": [
    "response = query_engine.query(\"What metrics is management remuneration based on?\")\n",
    "print(response)"
   ]
  },
  {
   "cell_type": "code",
   "execution_count": 9,
   "metadata": {},
   "outputs": [
    {
     "name": "stdout",
     "output_type": "stream",
     "text": [
      "Non-GAAP measures are calculated as follows:\n",
      "\n",
      "1. **Organic Net Sales**: This is defined as net sales excluding the impact of currency, acquisitions, divestitures, and a 53rd week of shipments. The impact of currency is calculated by holding exchange rates constant at the previous year’s exchange rate, with exceptions for highly inflationary subsidiaries, where the previous year’s results are calculated using the current year’s exchange rate.\n",
      "\n",
      "2. **Adjusted EBITDA**: This is defined as net income/(loss) from continuing operations before interest expense, other expense/(income), provision for/(benefit from) income taxes, and depreciation and amortization (excluding integration and restructuring expenses). Additionally, it excludes the impacts of integration and restructuring expenses, deal costs, unrealized losses/(gains) on commodity hedges, impairment losses, and equity award compensation expense (excluding integration and restructuring expenses).\n",
      "\n",
      "3. **Adjusted EPS**: This is defined as diluted earnings per share excluding the impacts of integration and restructuring expenses, deal costs, unrealized losses/(gains) on commodity hedges, impairment losses, losses/(gains) on the sale of a business, other losses/(gains) related to acquisitions and divestitures (e.g., tax and hedging impacts), nonmonetary currency devaluation (e.g., remeasurement gains and losses), debt prepayment and extinguishment costs, and U.S. Tax Reform discrete income tax expense/(benefit). It also includes adjustments to reflect preferred stock dividend payments on an accrual basis when they occur.\n"
     ]
    }
   ],
   "source": [
    "response = query_engine.query(\"How are the non-GAAP measures calculated?\")\n",
    "print(response)"
   ]
  },
  {
   "cell_type": "code",
   "execution_count": 10,
   "metadata": {},
   "outputs": [
    {
     "name": "stdout",
     "output_type": "stream",
     "text": [
      "Yes, the calculations of the non-GAAP measures have changed over the years. For example, the definition of Organic Net Sales has been adjusted to exclude different impacts such as acquisitions, currency, divestitures, and a 53rd week of shipments, with specific changes in how currency impacts are calculated. Additionally, the components excluded in the calculation of Adjusted EBITDA and Adjusted EPS have also been modified, reflecting changes in the items considered to not directly reflect underlying operations.\n"
     ]
    }
   ],
   "source": [
    "response = query_engine.query(\"Have the calculations of the non-GAAP measures changed in the last number of years?\")\n",
    "print(response)"
   ]
  },
  {
   "cell_type": "code",
   "execution_count": 11,
   "metadata": {},
   "outputs": [
    {
     "name": "stdout",
     "output_type": "stream",
     "text": [
      "The client discusses Segment Adjusted EBITDA as a profitability measure in the report.\n"
     ]
    }
   ],
   "source": [
    "response = query_engine.query(\"What profitability measures does the client discuss in the report (e.g., Profit before tax, EBITDA, EBIT)?\")\n",
    "print(response)"
   ]
  },
  {
   "cell_type": "code",
   "execution_count": 12,
   "metadata": {},
   "outputs": [
    {
     "name": "stdout",
     "output_type": "stream",
     "text": [
      "The metrics management are remunerated on are based on non-GAAP metrics.\n"
     ]
    }
   ],
   "source": [
    "response = query_engine.query(\"Are the metrics management are remunerated on based on GAAP or non-GAAP metrics?\")\n",
    "print(response)"
   ]
  },
  {
   "cell_type": "code",
   "execution_count": 13,
   "metadata": {},
   "outputs": [
    {
     "name": "stdout",
     "output_type": "stream",
     "text": [
      "Yes, the narrative description of the non-GAAP measures is consistent with the reconciliation table showing the non-GAAP measures. The narrative explains the purpose and definition of non-GAAP measures such as Organic Net Sales, Adjusted EBITDA, and Adjusted EPS, and how they are used by management and investors. This aligns with the reconciliation tables that typically accompany such descriptions, providing a detailed breakdown of how these non-GAAP measures are derived from the corresponding GAAP measures.\n"
     ]
    }
   ],
   "source": [
    "response = query_engine.query(\"If there is a narrative description of the non-GAAP measures is it consistent with any reconciliation table showing the Non-GAAP measures?\")\n",
    "print(response)"
   ]
  },
  {
   "cell_type": "code",
   "execution_count": 14,
   "metadata": {},
   "outputs": [
    {
     "name": "stdout",
     "output_type": "stream",
     "text": [
      "The non-GAAP financial measures used, such as Organic Net Sales, Adjusted EBITDA, and Adjusted EPS, may differ from similarly titled non-GAAP financial measures presented by other companies. Additionally, other companies may not define these non-GAAP financial measures in the same way.\n"
     ]
    }
   ],
   "source": [
    "response = query_engine.query(\"For the non-GAAP metrics that are used, are these consistent across competitors?\")\n",
    "print(response)"
   ]
  },
  {
   "cell_type": "code",
   "execution_count": 15,
   "metadata": {},
   "outputs": [
    {
     "name": "stdout",
     "output_type": "stream",
     "text": [
      "The provided information does not include data on capital expenditures or comparisons with competitors, so it is not possible to determine the correlation between sales growth and capital expenditure growth over the last three years or compared to competitors.\n"
     ]
    }
   ],
   "source": [
    "response = query_engine.query(\"Is there a strong correlation between sales growth and capital expenditure growth over the last 3 years and compared to competitors? (this can be changed depending on the metrics that are being used – e.g., could swap sales and CAPEX for two other metrics).\")\n",
    "print(response)"
   ]
  },
  {
   "cell_type": "code",
   "execution_count": null,
   "metadata": {},
   "outputs": [],
   "source": []
  },
  {
   "cell_type": "code",
   "execution_count": null,
   "metadata": {},
   "outputs": [],
   "source": []
  }
 ],
 "metadata": {
  "kernelspec": {
   "display_name": "base",
   "language": "python",
   "name": "python3"
  },
  "language_info": {
   "codemirror_mode": {
    "name": "ipython",
    "version": 3
   },
   "file_extension": ".py",
   "mimetype": "text/x-python",
   "name": "python",
   "nbconvert_exporter": "python",
   "pygments_lexer": "ipython3",
   "version": "3.12.2"
  }
 },
 "nbformat": 4,
 "nbformat_minor": 2
}
